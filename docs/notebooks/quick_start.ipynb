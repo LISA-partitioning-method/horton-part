{
 "cells": [
  {
   "cell_type": "markdown",
   "id": "4777fc6957539e64",
   "metadata": {},
   "source": [
    "# From Command Line\n",
    "\n",
    "In this tutorial, all calculations are performed via command line.\n",
    "\n",
    "## Step 1: Generate Molecular Density and Grid\n",
    "First, one needs to generate molecular density and grid:\n",
    "\n",
    "```bash\n",
    "part-gen co.fchk --output co_dens.npz\n",
    "```\n",
    "\n",
    "To execute command in notebook, one needs to load `os` package."
   ]
  },
  {
   "cell_type": "code",
   "execution_count": null,
   "id": "65f777c306c2e58c",
   "metadata": {},
   "outputs": [],
   "source": [
    "import os"
   ]
  },
  {
   "cell_type": "markdown",
   "id": "ea9613972f803bb0",
   "metadata": {},
   "source": [
    "Then, one can execute command through calling `os.system` function. The result is restored in `co_dens.npz` that is a Numpy `npz` file, which is also the input file of next step."
   ]
  },
  {
   "cell_type": "code",
   "execution_count": null,
   "id": "916dac59658de834",
   "metadata": {},
   "outputs": [],
   "source": [
    "os.system(\"part-gen co.fchk --output co_dens.npz\")"
   ]
  },
  {
   "cell_type": "markdown",
   "id": "41c02570eaf190b2",
   "metadata": {},
   "source": [
    "## Step 2: Do Partitioning \n",
    "\n",
    "Then, we employ the `part-dens` command to partition molecular density into atomic contributions. In this process, we utilize the local LISA scheme, which addresses a fixed-point problem through a self-consistent method.\n",
    "For additional information, refer to [LisaDIISWPart](https://yingxingcheng.github.io/horton-part/pyapi/horton_part.lisa.html#horton_part.lisa.LisaDIISWPart).\n",
    "\n",
    "It should be noted that, for now, only ISA schemes are available via the command line. For users interested in other partitioning schemes, please refer to the `Examples` tutorials.\n",
    "\n",
    "The command line syntax is as follows:\n",
    "```bash\n",
    "part-dens co_dens.npz -t lisa --solver 201 --log INFO --output co_part.npz\n",
    "```\n",
    "\n",
    "The `co_dens.npz` is obtained from `part-gen` command and the output of the result is restored in `co_part.npz` file.\n",
    "\n",
    "Again, we use the `os.system` function to execute the command line within the notebook.\n"
   ]
  },
  {
   "cell_type": "code",
   "execution_count": null,
   "id": "d02fe112969a1f1a",
   "metadata": {},
   "outputs": [],
   "source": [
    "os.system(\"part-dens co_dens.npz -t lisa --solver 201 --log INFO --output co_part.npz\")"
   ]
  },
  {
   "cell_type": "code",
   "execution_count": null,
   "id": "c99c74054eeb882f",
   "metadata": {},
   "outputs": [],
   "source": [
    "# clear all output files.\n",
    "os.remove(\"co_dens.npz\")\n",
    "os.remove(\"co_part.npz\")"
   ]
  },
  {
   "cell_type": "code",
   "execution_count": null,
   "id": "624eecd3098cbbc0",
   "metadata": {},
   "outputs": [],
   "source": []
  }
 ],
 "metadata": {
  "kernelspec": {
   "display_name": "Python 3",
   "language": "python",
   "name": "python3"
  },
  "language_info": {
   "codemirror_mode": {
    "name": "ipython",
    "version": 2
   },
   "file_extension": ".py",
   "mimetype": "text/x-python",
   "name": "python",
   "nbconvert_exporter": "python",
   "pygments_lexer": "ipython2"
  }
 },
 "nbformat": 4,
 "nbformat_minor": 5
}
