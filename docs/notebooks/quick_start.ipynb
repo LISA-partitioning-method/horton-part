{
 "cells": [
  {
   "cell_type": "markdown",
   "id": "4777fc6957539e64",
   "metadata": {},
   "source": [
    "# From Command Line\n",
    "\n",
    "In this tutorial, all calculations are performed via the command line.\n",
    "\n",
    "Since version 1.1.6, `horton-part` only supports using input files in `yaml` format to run the programs.  \n",
    "A simple example input file, `sample_input.yaml`, is shown below:\n",
    "\n",
    "```yaml\n",
    "part-gen:\n",
    "  inputs:\n",
    "  - ./data/h2o.fchk\n",
    "  outputs:\n",
    "  - h2o_dens.npz\n",
    "part-dens:\n",
    "  inputs:\n",
    "  - h2o_dens.npz\n",
    "  outputs:\n",
    "  --outputs h2o_part.npz\n",
    "```\n",
    "\n",
    "In the terminal, you can easily run the calculation by typing:\n",
    "\n",
    "```bash\n",
    "part sample_input.yaml\n",
    "```\n",
    "\n",
    "To run it in a notebook, you will need to use the `os` module."
   ]
  },
  {
   "cell_type": "code",
   "execution_count": null,
   "id": "65f777c306c2e58c",
   "metadata": {},
   "outputs": [],
   "source": [
    "import os"
   ]
  },
  {
   "cell_type": "markdown",
   "id": "ea9613972f803bb0",
   "metadata": {},
   "source": [
    "Then, one can execute command through calling `os.system` function. The result is restored in `h2o_part.npz` that is a Numpy `npz` file."
   ]
  },
  {
   "cell_type": "code",
   "execution_count": null,
   "id": "916dac59658de834",
   "metadata": {},
   "outputs": [],
   "source": [
    "os.system(\"part sample_input.yaml\")"
   ]
  },
  {
   "cell_type": "code",
   "execution_count": null,
   "id": "3968039c-287b-4b02-852d-b5e29037fd41",
   "metadata": {},
   "outputs": [],
   "source": [
    "# remove cache files\n",
    "for f in [\"h2o_dens.npz\", \"h2o_part.npz\"]:\n",
    "    if os.path.exists(f):\n",
    "        os.remove(f)"
   ]
  },
  {
   "cell_type": "code",
   "execution_count": null,
   "id": "94936ec1-6cf2-4fb2-88a4-280a8ede7378",
   "metadata": {},
   "outputs": [],
   "source": []
  }
 ],
 "metadata": {
  "kernelspec": {
   "display_name": "Python 3 (ipykernel)",
   "language": "python",
   "name": "python3"
  },
  "language_info": {
   "codemirror_mode": {
    "name": "ipython",
    "version": 3
   },
   "file_extension": ".py",
   "mimetype": "text/x-python",
   "name": "python",
   "nbconvert_exporter": "python",
   "pygments_lexer": "ipython3"
  }
 },
 "nbformat": 4,
 "nbformat_minor": 5
}
