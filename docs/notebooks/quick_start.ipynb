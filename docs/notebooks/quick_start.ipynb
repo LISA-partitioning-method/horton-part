{
 "cells": [
  {
   "cell_type": "markdown",
   "id": "0",
   "metadata": {},
   "source": [
    "# From Command Line\n",
    "\n",
    "In this tutorial, all calculations are performed via the command line.\n",
    "\n",
    "Starting from version 1.1.6, `horton-part` only supports input files in `yaml` format to run its programs.  \n",
    "Below is a simple example of an input file, `sample_input.yaml`:\n",
    "\n",
    "```yaml\n",
    "part-gen:\n",
    "  inputs:\n",
    "    - ./data/h2o.fchk\n",
    "  outputs:\n",
    "    - h2o_dens.npz\n",
    "part-dens:\n",
    "  inputs:\n",
    "    - h2o_dens.npz\n",
    "  outputs:\n",
    "    - h2o_part.npz\n",
    "```\n",
    "\n",
    "This input file specifies the inputs and outputs for two sub-programs: `part-gen` and `part-dens`.\n",
    "\n",
    "- The `inputs` of `part-gen` specify the file used to generate the molecular density and molecular grids, which are stored in the path defined in the `outputs` section of `part-gen`.\n",
    "- The `outputs` of `part-gen` become the `inputs` for the `part-dens` sub-program, which partitions the molecular density into atomic contributions using various methods. The default method is `aLISA`.\n",
    "\n",
    "To run the calculation in the terminal, use the following command:\n",
    "\n",
    "```bash\n",
    "part sample_input.yaml\n",
    "```\n",
    "\n",
    "If you prefer to run it in a Jupyter notebook, you will need to use the `os` module to execute the command."
   ]
  },
  {
   "cell_type": "code",
   "execution_count": null,
   "id": "1",
   "metadata": {},
   "outputs": [],
   "source": [
    "import os"
   ]
  },
  {
   "cell_type": "markdown",
   "id": "2",
   "metadata": {},
   "source": [
    "Then, one can execute command through calling `os.system` function. The result is restored in `h2o_part.npz` that is a Numpy `npz` file."
   ]
  },
  {
   "cell_type": "code",
   "execution_count": null,
   "id": "3",
   "metadata": {},
   "outputs": [],
   "source": [
    "os.system(\"part sample_input.yaml\")"
   ]
  },
  {
   "cell_type": "code",
   "execution_count": null,
   "id": "4",
   "metadata": {},
   "outputs": [],
   "source": [
    "# remove cache files\n",
    "for f in [\"h2o_dens.npz\", \"h2o_part.npz\"]:\n",
    "    if os.path.exists(f):\n",
    "        os.remove(f)"
   ]
  },
  {
   "cell_type": "code",
   "execution_count": null,
   "id": "5",
   "metadata": {},
   "outputs": [],
   "source": []
  }
 ],
 "metadata": {
  "kernelspec": {
   "display_name": "Python 3 (ipykernel)",
   "language": "python",
   "name": "python3"
  },
  "language_info": {
   "codemirror_mode": {
    "name": "ipython",
    "version": 3
   },
   "file_extension": ".py",
   "mimetype": "text/x-python",
   "name": "python",
   "nbconvert_exporter": "python",
   "pygments_lexer": "ipython3"
  }
 },
 "nbformat": 4,
 "nbformat_minor": 5
}
