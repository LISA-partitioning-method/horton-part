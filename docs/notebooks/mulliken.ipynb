{
 "cells": [
  {
   "cell_type": "markdown",
   "id": "6eea455aa05d0d04",
   "metadata": {},
   "source": [
    "# Mulliken method\n",
    "\n",
    "In this tutorial, Mulliken partitioning method is introduced using water molecule as an example.\n",
    "\n",
    "## TODO\n",
    "\n",
    "- Load basis info using `gbasis` API, including `shell_types` and `shell_maps`\n",
    "- Load density matrix and overlap matrix\n",
    "- Compute operators using `get_mulliken_operators`\n",
    "- Compute Mulliken charges using operators and density matrix."
   ]
  },
  {
   "cell_type": "code",
   "execution_count": null,
   "id": "1e149354c83b349b",
   "metadata": {},
   "outputs": [],
   "source": []
  }
 ],
 "metadata": {
  "kernelspec": {
   "display_name": "Python 3",
   "language": "python",
   "name": "python3"
  },
  "language_info": {
   "codemirror_mode": {
    "name": "ipython",
    "version": 2
   },
   "file_extension": ".py",
   "mimetype": "text/x-python",
   "name": "python",
   "nbconvert_exporter": "python",
   "pygments_lexer": "ipython2"
  }
 },
 "nbformat": 4,
 "nbformat_minor": 5
}
