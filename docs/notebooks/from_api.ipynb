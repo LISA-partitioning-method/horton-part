{
 "cells": [
  {
   "cell_type": "markdown",
   "metadata": {},
   "source": [
    "# Basic Usage\n",
    "\n",
    "This example on CO illustates all the features of using horton-part package.\n",
    "\n",
    "The format checkpoint file wavefunction is included in \"docs/notebooks/data/co.fchk\" and is\n",
    "read using the [IOData](https://github.com/theochem/iodata) package."
   ]
  },
  {
   "cell_type": "code",
   "execution_count": null,
   "metadata": {},
   "outputs": [],
   "source": [
    "# Import required libraries.\n",
    "import numpy as np\n",
    "from gbasis.evals.eval import evaluate_basis\n",
    "from gbasis.wrappers import from_iodata\n",
    "from grid import BeckeWeights, ExpRTransform, MolGrid, UniformInteger\n",
    "from iodata import load_one\n",
    "\n",
    "np.set_printoptions(precision=3, linewidth=np.inf, suppress=True)"
   ]
  },
  {
   "cell_type": "code",
   "execution_count": null,
   "metadata": {},
   "outputs": [],
   "source": [
    "def prepare_grid_and_dens():\n",
    "    \"\"\"Prepare molecular grid and density.\"\"\"\n",
    "    mol = load_one(\"data/co.fchk\")\n",
    "\n",
    "    # Specify the integration grid\n",
    "    rtf = ExpRTransform(5e-4, 2e1, 120 - 1)\n",
    "    uniform_grid = UniformInteger(120)\n",
    "    rgrid = rtf.transform_1d_grid(uniform_grid)\n",
    "    becke = BeckeWeights()\n",
    "    grid = MolGrid.from_preset(\n",
    "        mol.atnums, mol.atcoords, rgrid, \"fine\", becke, rotate=False, store=True\n",
    "    )\n",
    "\n",
    "    # Get the spin-summed density matrix\n",
    "    one_rdm = mol.one_rdms.get(\"post_scf\", mol.one_rdms.get(\"scf\"))\n",
    "    basis, coord_types = from_iodata(mol)\n",
    "    basis_grid = evaluate_basis(basis, grid.points, coord_type=coord_types)\n",
    "    rho = np.einsum(\"ab,bp,ap->p\", one_rdm, basis_grid, basis_grid, optimize=True)\n",
    "    nelec = grid.integrate(rho)\n",
    "    print(f\"The number of electrons: {nelec}\")\n",
    "    print(f\"Coordinates of the atoms \\n {mol.atcoords}\")\n",
    "    print(f\"Atomic numbers of the atom \\n {mol.atnums}\")\n",
    "    return mol, grid, rho\n",
    "\n",
    "\n",
    "def prepare_argument_dict():\n",
    "    \"\"\"Prepare basic input arguments for all AIM methods.\"\"\"\n",
    "    mol, grid, rho = prepare_grid_and_dens()\n",
    "    kwargs = {\n",
    "        \"coordinates\": mol.atcoords,\n",
    "        \"numbers\": mol.atnums,\n",
    "        \"pseudo_numbers\": mol.atnums,\n",
    "        \"grid\": grid,\n",
    "        \"moldens\": rho,\n",
    "        \"lmax\": 3,\n",
    "        \"maxiter\": 1000,\n",
    "    }\n",
    "    return kwargs\n",
    "\n",
    "\n",
    "def print_results(part):\n",
    "    \"\"\"Print partitioning results.\"\"\"\n",
    "    print(\"charges:\")\n",
    "    print(part.cache[\"charges\"])\n",
    "    print(\"cartesian multipoles:\")\n",
    "    print(part.cache[\"cartesian_multipoles\"])"
   ]
  },
  {
   "cell_type": "markdown",
   "metadata": {},
   "source": [
    "## ISA method"
   ]
  },
  {
   "cell_type": "code",
   "execution_count": null,
   "metadata": {},
   "outputs": [],
   "source": [
    "from horton_part import ISAWPart\n",
    "\n",
    "\n",
    "def main_isa():\n",
    "    \"\"\"The main entry to run ISA method\"\"\"\n",
    "    part = ISAWPart(**prepare_argument_dict())\n",
    "    part.do_all()\n",
    "    print_results(part)\n",
    "\n",
    "\n",
    "main_isa()"
   ]
  },
  {
   "cell_type": "markdown",
   "metadata": {},
   "source": [
    "## MBIS method"
   ]
  },
  {
   "cell_type": "code",
   "execution_count": null,
   "metadata": {},
   "outputs": [],
   "source": [
    "from horton_part import MBISWPart\n",
    "\n",
    "\n",
    "def main_mbis():\n",
    "    \"\"\"The main entry to run MBIS method\"\"\"\n",
    "    part = MBISWPart(**prepare_argument_dict())\n",
    "    part.do_all()\n",
    "    print_results(part)\n",
    "\n",
    "\n",
    "main_mbis()"
   ]
  },
  {
   "cell_type": "markdown",
   "metadata": {},
   "source": [
    "## GISA method"
   ]
  },
  {
   "cell_type": "code",
   "execution_count": null,
   "metadata": {},
   "outputs": [],
   "source": [
    "from horton_part import GaussianISAWPart\n",
    "\n",
    "\n",
    "def main_gisa():\n",
    "    kwargs = prepare_argument_dict()\n",
    "    kwargs[\"solver\"] = 1\n",
    "    part = GaussianISAWPart(**kwargs)\n",
    "    part.do_all()\n",
    "    print_results(part)\n",
    "\n",
    "\n",
    "main_gisa()"
   ]
  },
  {
   "cell_type": "markdown",
   "metadata": {},
   "source": [
    "## Local LISA method\n",
    "\n",
    "### Non-linear optimization problem\n",
    "\n",
    "#### Convex optimization method\n"
   ]
  },
  {
   "cell_type": "code",
   "execution_count": null,
   "metadata": {},
   "outputs": [],
   "source": [
    "from horton_part import LisaConvexOptWPart\n",
    "\n",
    "\n",
    "def main_lisa():\n",
    "    \"\"\"Local LISA by solving convex optimization problem.\"\"\"\n",
    "    kwargs = prepare_argument_dict()\n",
    "    part = LisaConvexOptWPart(**kwargs)\n",
    "    part.do_all()\n",
    "    print_results(part)\n",
    "\n",
    "\n",
    "main_lisa()"
   ]
  },
  {
   "cell_type": "markdown",
   "metadata": {},
   "source": [
    "#### Trust-region method"
   ]
  },
  {
   "cell_type": "code",
   "execution_count": null,
   "metadata": {},
   "outputs": [],
   "source": [
    "from horton_part import LisaTrustConstraintImpWPart\n",
    "\n",
    "\n",
    "def main_lisa_301():\n",
    "    \"\"\"Local LISA by solving convex optimization problem.\"\"\"\n",
    "    kwargs = prepare_argument_dict()\n",
    "    part = LisaTrustConstraintImpWPart(**kwargs)\n",
    "    part.do_all()\n",
    "    print_results(part)\n",
    "\n",
    "\n",
    "main_lisa_301()"
   ]
  },
  {
   "cell_type": "markdown",
   "metadata": {},
   "source": [
    "One can also add constraint explicitly"
   ]
  },
  {
   "cell_type": "code",
   "execution_count": null,
   "metadata": {},
   "outputs": [],
   "source": [
    "from horton_part import LisaTrustConstraintExpWPart\n",
    "\n",
    "\n",
    "def main_lisa_302():\n",
    "    \"\"\"Local LISA by solving convex optimization problem.\"\"\"\n",
    "    kwargs = prepare_argument_dict()\n",
    "    part = LisaTrustConstraintExpWPart(**kwargs)\n",
    "    part.do_all()\n",
    "    print_results(part)\n",
    "\n",
    "\n",
    "main_lisa_302()"
   ]
  },
  {
   "cell_type": "markdown",
   "metadata": {},
   "source": [
    "### Non-linear equations (fixed-point equations)\n",
    "\n",
    "#### Self-consistent method\n"
   ]
  },
  {
   "cell_type": "code",
   "execution_count": null,
   "metadata": {},
   "outputs": [],
   "source": [
    "from horton_part import LisaSelfConsistentWPart\n",
    "\n",
    "\n",
    "def main_lisa_201():\n",
    "    \"\"\"Self-consistent solver.\"\"\"\n",
    "    kwargs = prepare_argument_dict()\n",
    "    part = LisaSelfConsistentWPart(**kwargs)\n",
    "    part.do_all()\n",
    "    print_results(part)\n",
    "\n",
    "\n",
    "main_lisa_201()"
   ]
  },
  {
   "cell_type": "markdown",
   "metadata": {},
   "source": [
    "#### DIIS"
   ]
  },
  {
   "cell_type": "code",
   "execution_count": null,
   "metadata": {},
   "outputs": [],
   "source": [
    "from horton_part import LisaDIISWPart\n",
    "\n",
    "\n",
    "def main_lisa_202():\n",
    "    \"\"\"Self-consistent solver.\"\"\"\n",
    "    kwargs = prepare_argument_dict()\n",
    "    part = LisaDIISWPart(**kwargs)\n",
    "    part.do_all()\n",
    "    print_results(part)\n",
    "\n",
    "\n",
    "main_lisa_202()"
   ]
  },
  {
   "cell_type": "markdown",
   "metadata": {},
   "source": [
    "#### Newton method"
   ]
  },
  {
   "cell_type": "code",
   "execution_count": null,
   "metadata": {},
   "outputs": [],
   "source": [
    "from horton_part import LisaNewtonWPart\n",
    "\n",
    "\n",
    "def main_lisa_203():\n",
    "    \"\"\"Self-consistent solver.\"\"\"\n",
    "    kwargs = prepare_argument_dict()\n",
    "    part = LisaNewtonWPart(**kwargs)\n",
    "    part.do_all()\n",
    "    print_results(part)\n",
    "\n",
    "\n",
    "main_lisa_203()"
   ]
  },
  {
   "cell_type": "markdown",
   "metadata": {},
   "source": [
    "## Global LISA \n",
    "\n",
    "### Convex optimization problem"
   ]
  },
  {
   "cell_type": "code",
   "execution_count": null,
   "metadata": {},
   "outputs": [],
   "source": [
    "from horton_part.lisa_g import GLisaConvexOptWPart\n",
    "\n",
    "\n",
    "def main_lisa_g_101():\n",
    "    \"\"\"Global LISA by solving convex optimization problem.\"\"\"\n",
    "    part = GLisaConvexOptWPart(**prepare_argument_dict())\n",
    "    part.do_all()\n",
    "    print_results(part)\n",
    "\n",
    "\n",
    "main_lisa_g_101()"
   ]
  },
  {
   "cell_type": "markdown",
   "metadata": {},
   "source": [
    "### Convex optimization problem (with negative parameters allowed)\n"
   ]
  },
  {
   "cell_type": "code",
   "execution_count": null,
   "metadata": {},
   "outputs": [],
   "source": [
    "from horton_part.lisa_g import GLisaConvexOptNWPart\n",
    "\n",
    "\n",
    "def main_lisa_g_104():\n",
    "    \"\"\"Global LISA by solving constraint optimization problem (using trust constraint solver.\"\"\"\n",
    "    part = GLisaConvexOptNWPart(**prepare_argument_dict())\n",
    "    part.do_all()\n",
    "    print_results(part)\n",
    "\n",
    "\n",
    "main_lisa_g_104()"
   ]
  },
  {
   "cell_type": "markdown",
   "metadata": {},
   "source": [
    "### Constraint optimization problem \n",
    "\n",
    "The optimization problem is solved by using trust constraint solver and all parameters are non-negative.\n"
   ]
  },
  {
   "cell_type": "code",
   "execution_count": null,
   "metadata": {},
   "outputs": [],
   "source": [
    "from horton_part.lisa_g import GLisaTrustConstrainWPart\n",
    "\n",
    "\n",
    "def main_lisa_g_301():\n",
    "    \"\"\"Global LISA by solving constraint optimization problem (using trust constraint solver.\"\"\"\n",
    "    part = GLisaTrustConstrainWPart(**prepare_argument_dict())\n",
    "    part.do_all()\n",
    "    print_results(part)\n",
    "\n",
    "\n",
    "main_lisa_g_301()"
   ]
  },
  {
   "cell_type": "markdown",
   "metadata": {},
   "source": [
    "### Constraint optimization problem (with negative parameters allowed)\n",
    "\n",
    "The optimization problem is solved by using trust constraint solver and negative parameter is allowed.\n"
   ]
  },
  {
   "cell_type": "code",
   "execution_count": null,
   "metadata": {},
   "outputs": [],
   "source": [
    "from horton_part.lisa_g import GLisaTrustConstrainNWPart\n",
    "\n",
    "\n",
    "def main_lisa_g_302():\n",
    "    \"\"\"Global LISA by solving constraint optimization problem (using trust constraint solver with negative parameters allowed.)\"\"\"\n",
    "    part = GLisaTrustConstrainNWPart(**prepare_argument_dict())\n",
    "    part.do_all()\n",
    "    print_results(part)\n",
    "\n",
    "\n",
    "main_lisa_g_302()"
   ]
  },
  {
   "cell_type": "markdown",
   "metadata": {},
   "source": [
    "### Fixed-point problem by self-consistent solver\n",
    "\n",
    "An equivalent fixed-point problem is addressed by using self-consistent solver and non-negative parameters are guaranteed.\n"
   ]
  },
  {
   "cell_type": "code",
   "execution_count": null,
   "metadata": {},
   "outputs": [],
   "source": [
    "from horton_part.lisa_g import GLisaSelfConsistentWPart\n",
    "\n",
    "\n",
    "def main_lisa_g_201():\n",
    "    \"\"\"Global LISA with self-consistent solver.\"\"\"\n",
    "    part = GLisaSelfConsistentWPart(**prepare_argument_dict())\n",
    "    part.do_all()\n",
    "    print_results(part)\n",
    "\n",
    "\n",
    "main_lisa_g_201()"
   ]
  },
  {
   "cell_type": "markdown",
   "metadata": {},
   "source": [
    "### Fixed-point problem by DIIS solver\n",
    "\n",
    "An equivalent fixed-point problem is addressed by using self-consistent solver and non-negative parameters are guaranteed.\n"
   ]
  },
  {
   "cell_type": "code",
   "execution_count": null,
   "metadata": {},
   "outputs": [],
   "source": [
    "from horton_part.lisa_g import GLisaDIISWPart\n",
    "\n",
    "\n",
    "def main_lisa_g_206():\n",
    "    \"\"\"Global LISA with DIIS solver.\"\"\"\n",
    "    part = GLisaDIISWPart(**prepare_argument_dict())\n",
    "    part.do_all()\n",
    "\n",
    "    print(\"charges:\")\n",
    "    print(part.cache[\"charges\"])\n",
    "    print(\"cartesian multipoles:\")\n",
    "    print(part.cache[\"cartesian_multipoles\"])\n",
    "\n",
    "\n",
    "main_lisa_g_206()"
   ]
  },
  {
   "cell_type": "code",
   "execution_count": null,
   "metadata": {},
   "outputs": [],
   "source": []
  }
 ],
 "metadata": {
  "kernelspec": {
   "display_name": "Python 3",
   "language": "python",
   "name": "python3"
  },
  "language_info": {
   "codemirror_mode": {
    "name": "ipython",
    "version": 3
   },
   "file_extension": ".py",
   "mimetype": "text/x-python",
   "name": "python",
   "nbconvert_exporter": "python",
   "pygments_lexer": "ipython3"
  }
 },
 "nbformat": 4,
 "nbformat_minor": 0
}
