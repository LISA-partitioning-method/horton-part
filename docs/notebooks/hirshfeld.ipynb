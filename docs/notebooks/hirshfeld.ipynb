{
 "cells": [
  {
   "cell_type": "markdown",
   "id": "0",
   "metadata": {},
   "source": [
    "# (Iterative) Hirshfeld method\n",
    "\n",
    "In this tutorial, we will introduce how to use the `horton_part` API method to execute (iterative) Hirshfeld partitioning methods.\n",
    "\n",
    "First, we import the required libraries."
   ]
  },
  {
   "cell_type": "code",
   "execution_count": null,
   "id": "1",
   "metadata": {},
   "outputs": [],
   "source": [
    "import numpy as np\n",
    "from gbasis.evals.eval import evaluate_basis\n",
    "from gbasis.wrappers import from_iodata\n",
    "from grid import AtomGrid, ExpRTransform, UniformInteger\n",
    "from iodata import load_one\n",
    "from setup import prepare_grid_and_dens, print_results\n",
    "\n",
    "from horton_part import HirshfeldIWPart, HirshfeldWPart, ProAtomDB, ProAtomRecord\n",
    "\n",
    "np.set_printoptions(precision=3, linewidth=np.inf, suppress=True)"
   ]
  },
  {
   "cell_type": "markdown",
   "id": "2",
   "metadata": {},
   "source": [
    "In (iterative) Hirshfeld methods, a database of atomic radial density profiles is required. Therefore, different single-atom DFT or other *ab initio* calculations should be executed. Here, we use the Gaussian package. The checkpoint files, in `fchk` format, are generated using Gaussian tools as well.\n",
    "\n",
    "Next, the radial atomic density is obtained by computing the spherical average of the atomic density. This process can be applied using the `gbasis` and `grid` packages."
   ]
  },
  {
   "cell_type": "code",
   "execution_count": null,
   "id": "3",
   "metadata": {},
   "outputs": [],
   "source": [
    "def prepare_record(filename):\n",
    "    \"\"\"Prepare molecular grid and density.\"\"\"\n",
    "    mol = load_one(filename)\n",
    "\n",
    "    # Specify the integration grid\n",
    "    rtf = ExpRTransform(5e-4, 2e1, 120 - 1)\n",
    "    uniform_grid = UniformInteger(120)\n",
    "    rgrid = rtf.transform_1d_grid(uniform_grid)\n",
    "\n",
    "    # Get the spin-summed density matrix\n",
    "    one_rdm = mol.one_rdms.get(\"post_scf\", mol.one_rdms.get(\"scf\"))\n",
    "    basis = from_iodata(mol)\n",
    "    assert len(mol.atnums) == 1\n",
    "    grid = AtomGrid.from_preset(atnum=mol.atnums[0], preset=\"fine\", rgrid=rgrid)\n",
    "\n",
    "    basis_grid = evaluate_basis(basis, grid.points)\n",
    "    rho = np.einsum(\"ab,bp,ap->p\", one_rdm, basis_grid, basis_grid, optimize=True)\n",
    "    spline = grid.spherical_average(rho)\n",
    "    radial_rho = spline(rgrid.points)\n",
    "\n",
    "    record = ProAtomRecord(mol.atnums[0], mol.charge, mol.energy, rgrid, radial_rho)\n",
    "    return record"
   ]
  },
  {
   "cell_type": "markdown",
   "id": "4",
   "metadata": {},
   "source": [
    "In this tutorial, we focus on the water molecule and therefore only need data for hydrogen and oxygen atoms. It should be noted that data for both cations and anions are also used."
   ]
  },
  {
   "cell_type": "code",
   "execution_count": null,
   "id": "5",
   "metadata": {},
   "outputs": [],
   "source": [
    "h_1 = prepare_record(\"./data/atoms/001__h_001_q+00/mult02/atom.fchk\")\n",
    "h_2 = prepare_record(\"./data/atoms/001__h_002_q-01/mult01/atom.fchk\")\n",
    "o_7 = prepare_record(\"./data/atoms/008__o_007_q+01/mult04/atom.fchk\")\n",
    "o_8 = prepare_record(\"./data/atoms/008__o_008_q+00/mult03/atom.fchk\")\n",
    "o_9 = prepare_record(\"./data/atoms/008__o_009_q-01/mult02/atom.fchk\")\n",
    "\n",
    "records = [h_1, h_2, o_7, o_8, o_9]\n",
    "db = ProAtomDB(records)"
   ]
  },
  {
   "cell_type": "markdown",
   "id": "6",
   "metadata": {},
   "source": [
    "Next, we prepare the molecular grid and densities as described in the `Basic Usage` section. It should be noted that the radial grids for atoms in the water molecule should match the atomic radial grids used for the corresponding single atoms in the atomic database calculations."
   ]
  },
  {
   "cell_type": "code",
   "execution_count": null,
   "id": "7",
   "metadata": {},
   "outputs": [],
   "source": [
    "def prepare_argument_dict(mol, grid, rho):\n",
    "    \"\"\"Prepare basic input arguments for all AIM methods.\"\"\"\n",
    "    kwargs = {\n",
    "        \"coordinates\": mol.atcoords,\n",
    "        \"numbers\": mol.atnums,\n",
    "        \"pseudo_numbers\": mol.atnums,\n",
    "        \"grid\": grid,\n",
    "        \"moldens\": rho,\n",
    "        \"lmax\": 3,\n",
    "        \"proatomdb\": db,\n",
    "    }\n",
    "    return kwargs"
   ]
  },
  {
   "cell_type": "markdown",
   "id": "8",
   "metadata": {},
   "source": [
    "## Hirshfeld method\n",
    "\n",
    "The Hirshfeld method can be executed using the `HirshfeldWPart` class."
   ]
  },
  {
   "cell_type": "code",
   "execution_count": null,
   "id": "9",
   "metadata": {},
   "outputs": [],
   "source": [
    "mol, grid, rho = prepare_grid_and_dens(\"data/h2o.fchk\")\n",
    "kwargs = prepare_argument_dict(mol, grid, rho)\n",
    "h = HirshfeldWPart(**prepare_argument_dict(mol, grid, rho))\n",
    "h.do_all()\n",
    "print_results(h)"
   ]
  },
  {
   "cell_type": "markdown",
   "id": "10",
   "metadata": {},
   "source": [
    "## Iterative Hirshfeld method\n",
    "\n",
    "The iterative Hirshfeld method can be executed using `HirshfeldIWpart` class."
   ]
  },
  {
   "cell_type": "code",
   "execution_count": null,
   "id": "11",
   "metadata": {},
   "outputs": [],
   "source": [
    "hi = HirshfeldIWPart(**prepare_argument_dict(mol, grid, rho))\n",
    "hi.do_all()\n",
    "print_results(hi)"
   ]
  },
  {
   "cell_type": "code",
   "execution_count": null,
   "id": "12",
   "metadata": {},
   "outputs": [],
   "source": []
  }
 ],
 "metadata": {
  "kernelspec": {
   "display_name": "Python 3 (ipykernel)",
   "language": "python",
   "name": "python3"
  },
  "language_info": {
   "codemirror_mode": {
    "name": "ipython",
    "version": 3
   },
   "file_extension": ".py",
   "mimetype": "text/x-python",
   "name": "python",
   "nbconvert_exporter": "python",
   "pygments_lexer": "ipython3"
  }
 },
 "nbformat": 4,
 "nbformat_minor": 5
}
