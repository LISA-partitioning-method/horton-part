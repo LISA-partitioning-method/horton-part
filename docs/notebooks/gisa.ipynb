{
 "cells": [
  {
   "cell_type": "markdown",
   "id": "3c2e171bc2a28175",
   "metadata": {},
   "source": [
    "## GISA method"
   ]
  },
  {
   "cell_type": "code",
   "execution_count": null,
   "id": "5a6206b98f363969",
   "metadata": {},
   "outputs": [],
   "source": [
    "from setup import *\n",
    "\n",
    "from horton_part import GaussianISAWPart\n",
    "\n",
    "mol, grid, rho = prepare_grid_and_dens(\"data/h2o.fchk\")\n",
    "\n",
    "\n",
    "def main_gisa():\n",
    "    kwargs = prepare_argument_dict(mol, grid, rho)\n",
    "    kwargs[\"solver\"] = 1\n",
    "    part = GaussianISAWPart(**kwargs)\n",
    "    part.do_all()\n",
    "    print_results(part)\n",
    "\n",
    "\n",
    "main_gisa()"
   ]
  },
  {
   "cell_type": "code",
   "execution_count": null,
   "id": "eb8dc4bf42d03a79",
   "metadata": {},
   "outputs": [],
   "source": []
  }
 ],
 "metadata": {
  "kernelspec": {
   "display_name": "Python 3",
   "language": "python",
   "name": "python3"
  },
  "language_info": {
   "codemirror_mode": {
    "name": "ipython",
    "version": 2
   },
   "file_extension": ".py",
   "mimetype": "text/x-python",
   "name": "python",
   "nbconvert_exporter": "python",
   "pygments_lexer": "ipython2"
  }
 },
 "nbformat": 4,
 "nbformat_minor": 5
}
