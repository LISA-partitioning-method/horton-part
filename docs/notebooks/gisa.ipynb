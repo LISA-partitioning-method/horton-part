{
 "cells": [
  {
   "cell_type": "markdown",
   "id": "3c2e171bc2a28175",
   "metadata": {},
   "source": [
    "# Gaussian Iterative Stockholder Analysis (GISA) method"
   ]
  },
  {
   "cell_type": "code",
   "execution_count": null,
   "id": "5a6206b98f363969",
   "metadata": {},
   "outputs": [],
   "source": [
    "import logging\n",
    "\n",
    "from scipy.optimize import least_squares\n",
    "from setup import *\n",
    "\n",
    "from horton_part import GaussianISAWPart\n",
    "\n",
    "logging.basicConfig(level=logging.INFO, format=\"%(levelname)s:    %(message)s\")"
   ]
  },
  {
   "cell_type": "markdown",
   "id": "604b36a9-52c8-400c-a566-313132755ec3",
   "metadata": {},
   "source": [
    "## Quadratic Programming\n",
    "\n",
    "### Using quadprog solver\n",
    "\n",
    "The problem of this solver is that the initials values are set to zeros for all pro-atom parameters and no threshold setting is availiable."
   ]
  },
  {
   "cell_type": "code",
   "execution_count": null,
   "id": "7ffbef20-b68c-4216-8bcc-870d41cf497d",
   "metadata": {},
   "outputs": [],
   "source": [
    "mol, grid, rho = prepare_grid_and_dens(\"data/h2o.fchk\")\n",
    "\n",
    "\n",
    "def qp_method():\n",
    "    kwargs = prepare_argument_dict(mol, grid, rho)\n",
    "    kwargs[\"solver\"] = 1\n",
    "    part = GaussianISAWPart(**kwargs)\n",
    "    part.do_all()\n",
    "    print_results(part)\n",
    "\n",
    "\n",
    "qp_method()"
   ]
  },
  {
   "cell_type": "markdown",
   "id": "8b2463ff-b488-4ea7-8b6f-d59bb8387ccf",
   "metadata": {},
   "source": [
    "### Using SLSQP sovler\n",
    "\n",
    "A equivalent method is using `minimization` with the 'SLSQP' sovler implemented in `SciPy` package. "
   ]
  },
  {
   "cell_type": "code",
   "execution_count": null,
   "id": "7f127b41-a79d-4915-9b9e-f0fec35777eb",
   "metadata": {},
   "outputs": [],
   "source": [
    "mol, grid, rho = prepare_grid_and_dens(\"data/h2o.fchk\")\n",
    "\n",
    "\n",
    "def qp_method_scipy():\n",
    "    kwargs = prepare_argument_dict(mol, grid, rho)\n",
    "    kwargs[\"solver\"] = 2\n",
    "    kwargs[\n",
    "        \"inner_threshold\"\n",
    "    ] = 1e-10  # the value is from the test file of quadprog package.\n",
    "    part = GaussianISAWPart(**kwargs)\n",
    "    part.do_all()\n",
    "    print_results(part)\n",
    "\n",
    "\n",
    "qp_method_scipy()"
   ]
  },
  {
   "cell_type": "markdown",
   "id": "59e18611-ee1e-4cf2-be4d-728bd72a1e87",
   "metadata": {},
   "source": [
    "### Using CVXOPT solver\n",
    "Another sovler implemented in `CVXOPT` can also be applied."
   ]
  },
  {
   "cell_type": "code",
   "execution_count": null,
   "id": "73ce873d-2fe8-43aa-b91e-052ca4f0fbd7",
   "metadata": {},
   "outputs": [],
   "source": [
    "mol, grid, rho = prepare_grid_and_dens(\"data/h2o.fchk\")\n",
    "\n",
    "\n",
    "def qp_method_cvxopt():\n",
    "    kwargs = prepare_argument_dict(mol, grid, rho)\n",
    "    kwargs[\"solver\"] = 3\n",
    "    kwargs[\"inner_threshold\"] = 1e-8\n",
    "    part = GaussianISAWPart(**kwargs)\n",
    "    part.do_all()\n",
    "    print_results(part)\n",
    "    opt_propars = part._cache[\"propars\"]\n",
    "    print(\"Difference between total electrons:\")\n",
    "    print(grid.integrate(rho) - np.sum(opt_propars))\n",
    "\n",
    "\n",
    "qp_method_cvxopt()"
   ]
  },
  {
   "cell_type": "markdown",
   "id": "8523d0d8-c51a-48e0-9df8-8aed792fec05",
   "metadata": {},
   "source": [
    "## Customized Least-Square Sovler\n",
    "\n",
    "Users can easily apply customized solvers. The first step involves defining a customized solver, for example, `customized_solver`. The corresponding arguments and their meanings are as follows:"
   ]
  },
  {
   "cell_type": "code",
   "execution_count": null,
   "id": "eb8dc4bf42d03a79",
   "metadata": {},
   "outputs": [],
   "source": [
    "def customized_solver(bs_funcs, rho, propars, points, weights, alphas, threshold):\n",
    "    r\"\"\"\n",
    "    Optimize pro-atom parameters using quadratic-programming implemented in the `CVXOPT` package.\n",
    "\n",
    "    .. math::\n",
    "\n",
    "        N_{Ai} = \\int \\rho_A(r) \\frac{\\rho_{Ai}^0(r)}{\\rho_A^0(r)} dr\n",
    "\n",
    "        G = \\frac{1}{2} c^T S c - c^T b\n",
    "\n",
    "        S = 2 \\int \\zeta(\\vec{r}) \\zeta(\\vec{r}) d\\vec{r}\n",
    "        = \\frac{2}{\\pi \\sqrt{\\pi}} \\frac{(\\alpha_k \\alpha_l)^{3/2}}{(\\alpha_k + \\alpha_l)^{3/2}}\n",
    "\n",
    "        b = \\int \\zeta(\\vec{r}) \\rho_a(\\vec{r}) d\\vec{r}\n",
    "\n",
    "    Parameters\n",
    "    ----------\n",
    "    bs_funcs : 2D np.ndarray\n",
    "        Basis functions array with shape (M, N), where 'M' is the number of basis functions\n",
    "        and 'N' is the number of grid points.\n",
    "    rho : 1D np.ndarray\n",
    "        Spherically-averaged atomic density as a function of radial distance, with shape (N,).\n",
    "    propars : 1D np.ndarray\n",
    "        Pro-atom parameters with shape (M). 'M' is the number of basis functions.\n",
    "    points : 1D np.ndarray\n",
    "        Radial coordinates of grid points, with shape (N,).\n",
    "    weights : 1D np.ndarray\n",
    "        Weights for integration, including the angular part (4πr²), with shape (N,).\n",
    "    threshold : float\n",
    "        Convergence threshold for the iterative process.\n",
    "    alphas : 1D np.ndarray\n",
    "        The Gaussian exponential coefficients.\n",
    "    threshold : float\n",
    "        The convergence threshold of the optimization method.\n",
    "\n",
    "    Returns\n",
    "    -------\n",
    "    1D np.ndarray\n",
    "        Optimized proatom parameters.\n",
    "\n",
    "    Raises\n",
    "    ------\n",
    "    RuntimeError\n",
    "        If the inner iteration does not converge.\n",
    "\n",
    "    \"\"\"\n",
    "\n",
    "    def _obj_func(x):\n",
    "        pro = np.sum(x[:, None] * bs_funcs, axis=0)\n",
    "        return np.sqrt(weights) * np.abs(pro - rho)\n",
    "\n",
    "    result = least_squares(\n",
    "        _obj_func, x0=np.zeros_like(propars), bounds=(0, np.inf), ftol=threshold\n",
    "    )\n",
    "    return result.x"
   ]
  },
  {
   "cell_type": "markdown",
   "id": "e39427b3-bd5d-4dbe-8c81-3429c303f526",
   "metadata": {},
   "source": [
    "Next, we need to pass this customized solver to our partitioning method."
   ]
  },
  {
   "cell_type": "code",
   "execution_count": null,
   "id": "ac7d2feb-e98f-4f26-9bbb-04aced1dcf58",
   "metadata": {},
   "outputs": [],
   "source": [
    "def customized_method():\n",
    "    kwargs = prepare_argument_dict(mol, grid, rho)\n",
    "    kwargs[\"solver\"] = customized_solver\n",
    "    kwargs[\"inner_threshold\"] = 1e-14\n",
    "    part = GaussianISAWPart(**kwargs)\n",
    "    part.do_all()\n",
    "\n",
    "    print_results(part)\n",
    "    opt_propars = part._cache[\"propars\"]\n",
    "    print(\"Difference between total electrons:\")\n",
    "    print(grid.integrate(rho) - np.sum(opt_propars))\n",
    "\n",
    "\n",
    "customized_method()"
   ]
  },
  {
   "cell_type": "markdown",
   "id": "45cc8491-9cdb-4697-b80c-71276b5b7225",
   "metadata": {},
   "source": [
    "The result of the least squares method differs slightly from the quadratic programming method due to the constraints. We can observe that the deviation in the total electrons obtained by the least squares method is larger than that obtained by the quadratic programming method."
   ]
  },
  {
   "cell_type": "markdown",
   "id": "851a5859-de27-4ae5-a055-7d849dd5c67f",
   "metadata": {},
   "source": [
    "## General Quadratic Programming Interface: qpsovlers\n",
    "\n",
    "`qpsolvers` is a general interafce to call different quadratic programming solvers, e.g., `quadprog` or `cvxopt`."
   ]
  },
  {
   "cell_type": "code",
   "execution_count": null,
   "id": "1c4022e8-c8e9-4b1a-a2b2-6151fe7cc6c7",
   "metadata": {},
   "outputs": [],
   "source": [
    "import qpsolvers\n",
    "\n",
    "\n",
    "def opt_propars_qp_qpsolvers(\n",
    "    bs_funcs,\n",
    "    rho,\n",
    "    propars,\n",
    "    points,\n",
    "    weights,\n",
    "    alphas,\n",
    "    threshold,\n",
    "    solver=\"cvxopt\",\n",
    "    **kwargs,\n",
    "):\n",
    "    \"\"\"\n",
    "    Optimize pro-atom parameters using quadratic-programming implemented in the `CVXOPT` package.\n",
    "\n",
    "    Parameters\n",
    "    ----------\n",
    "    bs_funcs : 2D np.ndarray\n",
    "        Basis functions array with shape (M, N), where 'M' is the number of basis functions\n",
    "        and 'N' is the number of grid points.\n",
    "    rho : 1D np.ndarray\n",
    "        Spherically-averaged atomic density as a function of radial distance, with shape (N,).\n",
    "    propars : 1D np.ndarray\n",
    "        Pro-atom parameters with shape (M). 'M' is the number of basis functions.\n",
    "    points : 1D np.ndarray\n",
    "        Radial coordinates of grid points, with shape (N,).\n",
    "    weights : 1D np.ndarray\n",
    "        Weights for integration, including the angular part (4πr²), with shape (N,).\n",
    "    threshold : float\n",
    "        Convergence threshold for the iterative process.\n",
    "    alphas : 1D np.ndarray\n",
    "        The Gaussian exponential coefficients.\n",
    "    threshold : float\n",
    "        The convergence threshold of the optimization method.\n",
    "    solver : str\n",
    "        The name of sovler. See `qpsovler.solve_qp`.\n",
    "\n",
    "    Returns\n",
    "    -------\n",
    "    1D np.ndarray\n",
    "        Optimized proatom parameters.\n",
    "\n",
    "    Raises\n",
    "    ------\n",
    "    RuntimeError\n",
    "        If the inner iteration does not converge.\n",
    "\n",
    "    \"\"\"\n",
    "    nprim, npt = bs_funcs.shape\n",
    "\n",
    "    P = (\n",
    "        2\n",
    "        / np.pi**1.5\n",
    "        * (alphas[:, None] * alphas[None, :]) ** 1.5\n",
    "        / (alphas[:, None] + alphas[None, :]) ** 1.5\n",
    "    )\n",
    "    P = (P + P.T) / 2\n",
    "\n",
    "    q = -2 * np.einsum(\"i,ni,i->n\", weights, bs_funcs, rho)\n",
    "\n",
    "    # Linear inequality constraints\n",
    "    G = -np.identity(nprim)\n",
    "    h = np.zeros((nprim, 1))\n",
    "\n",
    "    # Linear equality constraints\n",
    "    A = np.ones((1, nprim))\n",
    "    pop = np.einsum(\"i,i\", weights, rho)\n",
    "    b = np.ones((1, 1)) * pop\n",
    "\n",
    "    # initial_values = cvxopt.matrix(np.array([1.0] * nprim).reshape((nprim, 1)))\n",
    "    result = qpsolvers.solve_qp(\n",
    "        P,\n",
    "        q,\n",
    "        G,\n",
    "        h,\n",
    "        A,\n",
    "        b,\n",
    "        solver=solver,\n",
    "        initvals=np.zeros_like(propars),\n",
    "        # threshold=threshold,\n",
    "        # eps_rel=threshold,\n",
    "        # eps_abs=threshold * 10,\n",
    "        # eps_prim_inf=threshold,\n",
    "        **kwargs,\n",
    "    )\n",
    "    return result"
   ]
  },
  {
   "cell_type": "code",
   "execution_count": null,
   "id": "2e05537d-aead-4c2f-af16-3943f7ad604f",
   "metadata": {},
   "outputs": [],
   "source": [
    "def qpsolvers_interface(solver, **kwargs):\n",
    "    kwargs = prepare_argument_dict(mol, grid, rho)\n",
    "    kwargs[\"solver\"] = opt_propars_qp_qpsolvers\n",
    "    kwargs[\"solver_kwargs\"] = {\"solver\": solver}\n",
    "    part = GaussianISAWPart(**kwargs)\n",
    "    part.do_all()\n",
    "\n",
    "    print_results(part)\n",
    "    opt_propars = part._cache[\"propars\"]\n",
    "    print(opt_propars)\n",
    "    print(\"Difference between total electrons:\")\n",
    "    print(grid.integrate(rho) - np.sum(opt_propars))\n",
    "\n",
    "\n",
    "# 'cvxopt', 'daqp', 'ecos', 'osqp', 'quadprog', 'scs'"
   ]
  },
  {
   "cell_type": "code",
   "execution_count": null,
   "id": "aec9ffb3-82ce-44e1-99c7-708390f5efaf",
   "metadata": {},
   "outputs": [],
   "source": [
    "qpsolvers_interface(\"quadprog\")"
   ]
  },
  {
   "cell_type": "code",
   "execution_count": null,
   "id": "7e0d9b15-15b3-496f-a2bc-3f0c9fcfe2bc",
   "metadata": {},
   "outputs": [],
   "source": [
    "qpsolvers_interface(\"cvxopt\", eps_rel=1e-8)"
   ]
  },
  {
   "cell_type": "code",
   "execution_count": null,
   "id": "fda1b306-1826-4031-8b1c-d09c8aaf5a54",
   "metadata": {},
   "outputs": [],
   "source": [
    "qpsolvers_interface(\"ecos\", reltol=1e-8)"
   ]
  },
  {
   "cell_type": "code",
   "execution_count": null,
   "id": "2f8bfc23-6ddf-4c60-9896-ac4d56b6086b",
   "metadata": {},
   "outputs": [],
   "source": [
    "qpsolvers_interface(\"osqp\", eps_rel=1e-8)"
   ]
  },
  {
   "cell_type": "code",
   "execution_count": null,
   "id": "6a427835-f29b-461c-ab0a-de3a0c8566d5",
   "metadata": {},
   "outputs": [],
   "source": []
  }
 ],
 "metadata": {
  "kernelspec": {
   "display_name": "Python 3 (ipykernel)",
   "language": "python",
   "name": "python3"
  },
  "language_info": {
   "codemirror_mode": {
    "name": "ipython",
    "version": 3
   },
   "file_extension": ".py",
   "mimetype": "text/x-python",
   "name": "python",
   "nbconvert_exporter": "python",
   "pygments_lexer": "ipython3"
  }
 },
 "nbformat": 4,
 "nbformat_minor": 5
}
