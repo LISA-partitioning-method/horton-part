{
 "cells": [
  {
   "cell_type": "markdown",
   "id": "4d74bff3ed5ce5e3",
   "metadata": {},
   "source": [
    "# New Direct Inversion in Iterative Space (DIIS)\n",
    "\n",
    "This method has been extensively used to solve self-consistent field (SCF) problems in the fields of quantum chemistry and physics. In this tutorial, we employ this method to accelerate the solving of fixed-point problems.\n",
    "\n",
    "It should be noted that one potential issue with this method is that non-negative parameters cannot be guaranteed during optimization in the conventional DIIS approach. Although this issue can be addressed by explicitly introducing constraints to the linear combination coefficients, key concepts in DIIS, numerical issues may still arise, such as singular matrices or convergence problems."
   ]
  },
  {
   "cell_type": "code",
   "execution_count": null,
   "id": "894e7957ebe70591",
   "metadata": {},
   "outputs": [],
   "source": [
    "import logging\n",
    "\n",
    "import numpy as np\n",
    "from setup import prepare_argument_dict, prepare_grid_and_dens, print_results\n",
    "\n",
    "from horton_part import (\n",
    "    BasisFuncHelper,\n",
    "    LinearISAWPart,\n",
    "    check_pro_atom_parameters,\n",
    "    compute_quantities,\n",
    "    lstsq_solver_dyn,\n",
    "    lstsq_solver_with_extra_constr,\n",
    "    lstsq_spsolver,\n",
    ")\n",
    "\n",
    "logging.basicConfig(level=logging.ERROR, format=\"%(levelname)s:    %(message)s\")\n",
    "logger = logging.getLogger(__name__)"
   ]
  },
  {
   "cell_type": "markdown",
   "id": "f9004365-74a8-4f21-8fe8-f4c2fe2ccb0b",
   "metadata": {},
   "source": [
    "In DIIS method, the combination coefficients are determined by solving a least-square problem.\n",
    "The default method is `lstsq_spsolver`, which computes the inversion of the matrix directly.\n",
    "One can also use other least-square solver and availiable methods are `lstsq_solver_dyn`, `lstsq_solver_with_extra_constr`."
   ]
  },
  {
   "cell_type": "code",
   "execution_count": null,
   "id": "6a4c0da6-f807-49ff-97ba-debd27aaada4",
   "metadata": {},
   "outputs": [],
   "source": [
    "def run_diis(diis_method):\n",
    "    \"\"\"Self-consistent solver.\"\"\"\n",
    "    mol, grid, rho = prepare_grid_and_dens(\"data/h2o.fchk\")\n",
    "    kwargs = prepare_argument_dict(mol, grid, rho)\n",
    "    kwargs[\"solver\"] = \"diis\"\n",
    "    print(\"*\" * 80)\n",
    "    print(f\"Results with {diis_method.__name__}\".center(80, \" \"))\n",
    "    print(\"*\" * 80)\n",
    "    kwargs[\"solver_options\"] = {\"diis_size\": 8, \"lstsq_solver\": diis_method}\n",
    "    part = LinearISAWPart(**kwargs)\n",
    "    part.do_all()\n",
    "    print_results(part)\n",
    "    print()"
   ]
  },
  {
   "cell_type": "code",
   "execution_count": null,
   "id": "5d32434a-cc0e-4ed4-926e-fb8cd64cda60",
   "metadata": {},
   "outputs": [],
   "source": [
    "run_diis(diis_spsolver)"
   ]
  },
  {
   "cell_type": "code",
   "execution_count": null,
   "id": "2abebe3c-3e2a-4954-a537-66e741dc9f23",
   "metadata": {},
   "outputs": [],
   "source": [
    "def run_cdiis(**solver_options):\n",
    "    \"\"\"Self-consistent solver.\"\"\"\n",
    "    mol, grid, rho = prepare_grid_and_dens(\"data/h2o.fchk\")\n",
    "    kwargs = prepare_argument_dict(mol, grid, rho)\n",
    "    kwargs[\"solver\"] = \"cdiis\"\n",
    "    kwargs[\"solver_options\"] = solver_options\n",
    "    part = LinearISAWPart(**kwargs)\n",
    "    part.do_all()\n",
    "    print_results(part)\n",
    "    print()"
   ]
  },
  {
   "cell_type": "code",
   "execution_count": null,
   "id": "97146fa4-4510-4dff-a633-a2d4826aaaf2",
   "metadata": {},
   "outputs": [],
   "source": [
    "run_cdiis(mode=\"R-CDIIS\", param=1e-2)"
   ]
  },
  {
   "cell_type": "code",
   "execution_count": null,
   "id": "b4834cac-47ec-47c4-bfb6-98a53f5e03e0",
   "metadata": {},
   "outputs": [],
   "source": [
    "run_cdiis(mode=\"FD-CDIIS\", diis_size=5)"
   ]
  },
  {
   "cell_type": "code",
   "execution_count": null,
   "id": "0703fbec-4bea-4f9d-88a2-cf0a49ad9413",
   "metadata": {},
   "outputs": [],
   "source": [
    "run_cdiis(mode=\"AD-CDIIS\", param=1e-4)"
   ]
  },
  {
   "cell_type": "code",
   "execution_count": null,
   "id": "9c9e9eb9-e4ca-4986-9311-03d7e19d43d6",
   "metadata": {},
   "outputs": [],
   "source": [
    "run_cdiis(mode=\"Roothaan\")"
   ]
  },
  {
   "cell_type": "code",
   "execution_count": null,
   "id": "1b75fb9d-ec64-4748-a7c1-e4ec83e9985a",
   "metadata": {},
   "outputs": [],
   "source": []
  }
 ],
 "metadata": {
  "kernelspec": {
   "display_name": "Python 3 (ipykernel)",
   "language": "python",
   "name": "python3"
  },
  "language_info": {
   "codemirror_mode": {
    "name": "ipython",
    "version": 3
   },
   "file_extension": ".py",
   "mimetype": "text/x-python",
   "name": "python",
   "nbconvert_exporter": "python",
   "pygments_lexer": "ipython3"
  }
 },
 "nbformat": 4,
 "nbformat_minor": 5
}
