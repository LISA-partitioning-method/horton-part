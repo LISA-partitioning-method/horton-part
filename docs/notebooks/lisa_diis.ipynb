{
 "cells": [
  {
   "cell_type": "markdown",
   "id": "4d74bff3ed5ce5e3",
   "metadata": {},
   "source": [
    "# New Direct Inversion in Iterative Space (DIIS)\n",
    "\n",
    "This method has been extensively used to solve self-consistent field (SCF) problems in the fields of quantum chemistry and physics. In this tutorial, we employ this method to accelerate the solving of fixed-point problems.\n",
    "\n",
    "It should be noted that one potential issue with this method is that non-negative parameters cannot be guaranteed during optimization in the conventional DIIS approach. Although this issue can be addressed by explicitly introducing constraints to the linear combination coefficients, key concepts in DIIS, numerical issues may still arise, such as singular matrices or convergence problems."
   ]
  },
  {
   "cell_type": "code",
   "execution_count": null,
   "id": "894e7957ebe70591",
   "metadata": {},
   "outputs": [],
   "source": [
    "import logging\n",
    "\n",
    "import numpy as np\n",
    "from setup import prepare_argument_dict, prepare_grid_and_dens, print_results\n",
    "\n",
    "from horton_part import (\n",
    "    BasisFuncHelper,\n",
    "    LinearISAWPart,\n",
    "    check_pro_atom_parameters,\n",
    "    compute_quantities,\n",
    "    diis_solver_dyn,\n",
    "    diis_solver_with_extra_constr,\n",
    "    diis_spsolver,\n",
    ")\n",
    "\n",
    "logging.basicConfig(level=logging.ERROR, format=\"%(levelname)s:    %(message)s\")\n",
    "logger = logging.getLogger(__name__)"
   ]
  },
  {
   "cell_type": "markdown",
   "id": "f9004365-74a8-4f21-8fe8-f4c2fe2ccb0b",
   "metadata": {},
   "source": [
    "One can also use other DIIS methods and availiable methods are `diis_solver_spsolver` (default), `diis_solver_dyn`, `diis_solver_with_extra_constr`."
   ]
  },
  {
   "cell_type": "code",
   "execution_count": null,
   "id": "6a4c0da6-f807-49ff-97ba-debd27aaada4",
   "metadata": {},
   "outputs": [],
   "source": [
    "def opt_propars_diis(\n",
    "    bs_funcs,\n",
    "    rho,\n",
    "    propars,\n",
    "    points,\n",
    "    weights,\n",
    "    threshold,\n",
    "    density_cutoff,\n",
    "    diis_size=8,\n",
    "    diis_method=None,\n",
    "):\n",
    "    r\"\"\"\n",
    "    Optimize parameters for proatom density functions using direct inversion in an iterative space (DIIS).\n",
    "\n",
    "    Parameters\n",
    "    ----------\n",
    "    bs_funcs : 2D np.ndarray\n",
    "        Basis functions array with shape (M, N), where 'M' is the number of basis functions\n",
    "        and 'N' is the number of grid points.\n",
    "    rho : 1D np.ndarray\n",
    "        Spherically-averaged atomic density as a function of radial distance, with shape (N,).\n",
    "    propars : 1D np.ndarray\n",
    "        Pro-atom parameters with shape (M). 'M' is the number of basis functions.\n",
    "    points : 1D np.ndarray\n",
    "        Radial coordinates of grid points, with shape (N,).\n",
    "    weights : 1D np.ndarray\n",
    "        Weights for integration, including the angular part (4πr²), with shape (N,).\n",
    "    threshold : float\n",
    "        Convergence threshold for the iterative process.\n",
    "    density_cutoff : float\n",
    "        Density values below this cutoff are considered invalid.\n",
    "    diis_size : int\n",
    "        The size of DIIS subspace.\n",
    "    diis_method : callable or None\n",
    "        DIIS solver.\n",
    "\n",
    "    Returns\n",
    "    -------\n",
    "    1D np.ndarray\n",
    "        Optimized proatom parameters.\n",
    "\n",
    "    Raises\n",
    "    ------\n",
    "    RuntimeError\n",
    "        If the inner iteration does not converge.\n",
    "\n",
    "    \"\"\"\n",
    "    diis_method = diis_method or diis_spsolver\n",
    "\n",
    "    history_r = []\n",
    "    history_x = []\n",
    "    history_g = []\n",
    "\n",
    "    logger.debug(\"            Iter.    dRMS      \")\n",
    "    logger.debug(\"            -----    ------    \")\n",
    "\n",
    "    def func_g(x):\n",
    "        \"\"\"The objective fixed-point equation.\"\"\"\n",
    "        pro_shells, _, _, ratio, _ = compute_quantities(\n",
    "            rho, x, bs_funcs, density_cutoff\n",
    "        )\n",
    "        return np.einsum(\"ip,p->i\", pro_shells * ratio, weights)\n",
    "\n",
    "    version = \"P\"\n",
    "\n",
    "    for irep in range(1000):\n",
    "        g = func_g(propars)\n",
    "        r = g - propars\n",
    "\n",
    "        drms = np.linalg.norm(r)\n",
    "        logger.debug(f\"           {irep:<4}    {drms:.6E}\")\n",
    "\n",
    "        if drms < threshold:\n",
    "            check_pro_atom_parameters(propars)\n",
    "            return propars\n",
    "\n",
    "        # Append trail & residual vectors to lists\n",
    "        history_r.append(r)\n",
    "        space_size = min(irep + 1, diis_size)\n",
    "        r_list = history_r[-space_size:]\n",
    "\n",
    "        if version == \"P\":\n",
    "            # Anderson-Pulay version P\n",
    "            history_x.append(propars.copy())\n",
    "            x_list = history_x[-space_size:]\n",
    "            x_tilde = diis_method(x_list, r_list, g)\n",
    "            propars = func_g(x_tilde)\n",
    "        else:\n",
    "            # Anderson-Pulay version A\n",
    "            history_g.append(g)\n",
    "            g_list = history_g[-space_size:]\n",
    "            propars = diis_method(g_list, r_list, g)\n",
    "\n",
    "    raise RuntimeError(\"Error: inner iteration is not converge!\")\n",
    "\n",
    "\n",
    "def run_diis(diis_method):\n",
    "    \"\"\"Self-consistent solver.\"\"\"\n",
    "    mol, grid, rho = prepare_grid_and_dens(\"data/h2o.fchk\")\n",
    "    kwargs = prepare_argument_dict(mol, grid, rho)\n",
    "    kwargs[\"solver\"] = opt_propars_diis\n",
    "    print(\"*\" * 80)\n",
    "    print(f\"Results with {diis_method.__name__}\".center(80, \" \"))\n",
    "    print(\"*\" * 80)\n",
    "    kwargs[\"solver_options\"] = {\"diis_size\": 8, \"diis_method\": diis_method}\n",
    "    part = LinearISAWPart(**kwargs)\n",
    "    part.do_all()\n",
    "    print_results(part)\n",
    "    print()"
   ]
  },
  {
   "cell_type": "code",
   "execution_count": null,
   "id": "5d32434a-cc0e-4ed4-926e-fb8cd64cda60",
   "metadata": {},
   "outputs": [],
   "source": [
    "run_diis(diis_spsolver)"
   ]
  },
  {
   "cell_type": "code",
   "execution_count": null,
   "id": "4ea3d0ad6241046c",
   "metadata": {},
   "outputs": [],
   "source": [
    "from cdiis import cdiis_algo"
   ]
  },
  {
   "cell_type": "code",
   "execution_count": null,
   "id": "2abebe3c-3e2a-4954-a537-66e741dc9f23",
   "metadata": {},
   "outputs": [],
   "source": [
    "def run_cdiis(**solver_options):\n",
    "    \"\"\"Self-consistent solver.\"\"\"\n",
    "    mol, grid, rho = prepare_grid_and_dens(\"data/h2o.fchk\")\n",
    "    kwargs = prepare_argument_dict(mol, grid, rho)\n",
    "    kwargs[\"solver\"] = cdiis_algo\n",
    "    kwargs[\"solver_options\"] = solver_options\n",
    "    part = LinearISAWPart(**kwargs)\n",
    "    part.do_all()\n",
    "    print_results(part)\n",
    "    print()"
   ]
  },
  {
   "cell_type": "code",
   "execution_count": null,
   "id": "97146fa4-4510-4dff-a633-a2d4826aaaf2",
   "metadata": {},
   "outputs": [],
   "source": [
    "run_cdiis(mode=\"R-CDIIS\", param=1e-2)"
   ]
  },
  {
   "cell_type": "code",
   "execution_count": null,
   "id": "b4834cac-47ec-47c4-bfb6-98a53f5e03e0",
   "metadata": {},
   "outputs": [],
   "source": [
    "run_cdiis(mode=\"FD-CDIIS\", sizediis=5)"
   ]
  },
  {
   "cell_type": "code",
   "execution_count": null,
   "id": "0703fbec-4bea-4f9d-88a2-cf0a49ad9413",
   "metadata": {},
   "outputs": [],
   "source": [
    "run_cdiis(mode=\"AD-CDIIS\", param=1e-4)"
   ]
  },
  {
   "cell_type": "code",
   "execution_count": null,
   "id": "9c9e9eb9-e4ca-4986-9311-03d7e19d43d6",
   "metadata": {},
   "outputs": [],
   "source": [
    "run_cdiis(mode=\"Roothaan\")"
   ]
  },
  {
   "cell_type": "code",
   "execution_count": null,
   "id": "1b75fb9d-ec64-4748-a7c1-e4ec83e9985a",
   "metadata": {},
   "outputs": [],
   "source": []
  }
 ],
 "metadata": {
  "kernelspec": {
   "display_name": "Python 3 (ipykernel)",
   "language": "python",
   "name": "python3"
  },
  "language_info": {
   "codemirror_mode": {
    "name": "ipython",
    "version": 3
   },
   "file_extension": ".py",
   "mimetype": "text/x-python",
   "name": "python",
   "nbconvert_exporter": "python",
   "pygments_lexer": "ipython3"
  }
 },
 "nbformat": 4,
 "nbformat_minor": 5
}
