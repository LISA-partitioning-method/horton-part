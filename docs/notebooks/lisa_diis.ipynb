{
 "cells": [
  {
   "cell_type": "markdown",
   "id": "0",
   "metadata": {},
   "source": [
    "# New Direct Inversion in Iterative Space (DIIS)\n",
    "\n",
    "This method has been extensively used to solve self-consistent field (SCF) problems in the fields of quantum chemistry and physics. In this tutorial, we employ this method to accelerate the solving of fixed-point problems.\n",
    "\n",
    "It should be noted that one potential issue with this method is that non-negative parameters cannot be guaranteed during optimization in the conventional DIIS approach. Although this issue can be addressed by explicitly introducing constraints to the linear combination coefficients, key concepts in DIIS, numerical issues may still arise, such as singular matrices or convergence problems."
   ]
  },
  {
   "cell_type": "code",
   "execution_count": null,
   "id": "1",
   "metadata": {},
   "outputs": [],
   "source": [
    "from setup import prepare_argument_dict, prepare_grid_and_dens, print_results\n",
    "\n",
    "from horton_part import (\n",
    "    LinearISAWPart,\n",
    "    lstsq_spsolver,\n",
    ")"
   ]
  },
  {
   "cell_type": "markdown",
   "id": "2",
   "metadata": {},
   "source": [
    "In DIIS method, the combination coefficients are determined by solving a least-square problem.\n",
    "The default method is `lstsq_spsolver`, which computes the inversion of the matrix directly.\n",
    "One can also use other least-square solver and availiable methods are `lstsq_solver_dyn`, `lstsq_solver_with_extra_constr`."
   ]
  },
  {
   "cell_type": "code",
   "execution_count": null,
   "id": "3",
   "metadata": {},
   "outputs": [],
   "source": [
    "def run_diis(diis_method):\n",
    "    \"\"\"Self-consistent solver.\"\"\"\n",
    "    mol, grid, rho = prepare_grid_and_dens(\"data/h2o.fchk\")\n",
    "    kwargs = prepare_argument_dict(mol, grid, rho)\n",
    "    kwargs[\"solver\"] = \"diis\"\n",
    "    print(\"*\" * 80)\n",
    "    print(f\"Results with {diis_method.__name__}\".center(80, \" \"))\n",
    "    print(\"*\" * 80)\n",
    "    kwargs[\"solver_options\"] = {\"diis_size\": 8, \"lstsq_solver\": diis_method}\n",
    "    part = LinearISAWPart(**kwargs)\n",
    "    part.do_all()\n",
    "    print_results(part)\n",
    "    print()"
   ]
  },
  {
   "cell_type": "code",
   "execution_count": null,
   "id": "4",
   "metadata": {},
   "outputs": [],
   "source": [
    "run_diis(lstsq_spsolver)"
   ]
  },
  {
   "cell_type": "code",
   "execution_count": null,
   "id": "5",
   "metadata": {},
   "outputs": [],
   "source": [
    "def run_cdiis(**solver_options):\n",
    "    \"\"\"Self-consistent solver.\"\"\"\n",
    "    mol, grid, rho = prepare_grid_and_dens(\"data/h2o.fchk\")\n",
    "    kwargs = prepare_argument_dict(mol, grid, rho)\n",
    "    kwargs[\"solver\"] = \"cdiis\"\n",
    "    kwargs[\"solver_options\"] = solver_options\n",
    "    part = LinearISAWPart(**kwargs)\n",
    "    part.do_all()\n",
    "    print_results(part)\n",
    "    print()"
   ]
  },
  {
   "cell_type": "code",
   "execution_count": null,
   "id": "6",
   "metadata": {},
   "outputs": [],
   "source": [
    "run_cdiis(mode=\"R-CDIIS\", param=1e-2)"
   ]
  },
  {
   "cell_type": "code",
   "execution_count": null,
   "id": "7",
   "metadata": {},
   "outputs": [],
   "source": [
    "run_cdiis(mode=\"FD-CDIIS\", diis_size=5)"
   ]
  },
  {
   "cell_type": "code",
   "execution_count": null,
   "id": "8",
   "metadata": {},
   "outputs": [],
   "source": [
    "run_cdiis(mode=\"AD-CDIIS\", param=1e-4)"
   ]
  },
  {
   "cell_type": "code",
   "execution_count": null,
   "id": "9",
   "metadata": {},
   "outputs": [],
   "source": [
    "run_cdiis(mode=\"Roothaan\")"
   ]
  },
  {
   "cell_type": "code",
   "execution_count": null,
   "id": "10",
   "metadata": {},
   "outputs": [],
   "source": []
  }
 ],
 "metadata": {
  "kernelspec": {
   "display_name": "Python 3 (ipykernel)",
   "language": "python",
   "name": "python3"
  },
  "language_info": {
   "codemirror_mode": {
    "name": "ipython",
    "version": 3
   },
   "file_extension": ".py",
   "mimetype": "text/x-python",
   "name": "python",
   "nbconvert_exporter": "python",
   "pygments_lexer": "ipython3"
  }
 },
 "nbformat": 4,
 "nbformat_minor": 5
}
