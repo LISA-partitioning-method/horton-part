{
 "cells": [
  {
   "cell_type": "markdown",
   "id": "2e390aee66a453a7",
   "metadata": {},
   "source": [
    "# Minimum Basis Iterative Stockholder (MBIS) scheme"
   ]
  },
  {
   "cell_type": "code",
   "execution_count": null,
   "id": "413f0370c6e2044c",
   "metadata": {},
   "outputs": [],
   "source": [
    "from setup import *\n",
    "\n",
    "from horton_part import MBISWPart\n",
    "\n",
    "mol, grid, rho = prepare_grid_and_dens(\"data/h2o.fchk\")\n",
    "part = MBISWPart(**prepare_argument_dict(mol, grid, rho))\n",
    "part.do_all()\n",
    "print_results(part)"
   ]
  },
  {
   "cell_type": "code",
   "execution_count": null,
   "id": "278c955a7eddf6e2",
   "metadata": {},
   "outputs": [],
   "source": []
  }
 ],
 "metadata": {
  "kernelspec": {
   "display_name": "Python 3",
   "language": "python",
   "name": "python3"
  },
  "language_info": {
   "codemirror_mode": {
    "name": "ipython",
    "version": 2
   },
   "file_extension": ".py",
   "mimetype": "text/x-python",
   "name": "python",
   "nbconvert_exporter": "python",
   "pygments_lexer": "ipython2"
  }
 },
 "nbformat": 4,
 "nbformat_minor": 5
}
