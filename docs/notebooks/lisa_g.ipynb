{
 "cells": [
  {
   "cell_type": "markdown",
   "id": "449802b253497da8",
   "metadata": {},
   "source": [
    "# Global Linear Iterative Stockholder Analysis (GL-ISA) schemes\n",
    "\n",
    "## Non-linear optimization problem\n",
    "\n",
    "### Convex optimization method\n"
   ]
  },
  {
   "cell_type": "code",
   "execution_count": null,
   "id": "bb30c59cf6e20367",
   "metadata": {},
   "outputs": [],
   "source": [
    "from setup import *\n",
    "\n",
    "from horton_part.lisa_g import GlobalLinearISAWPart\n",
    "\n",
    "mol, grid, rho = prepare_grid_and_dens(\"data/h2o.fchk\")\n",
    "\n",
    "\n",
    "def convex_optimization_with_non_negative_params():\n",
    "    kwargs = prepare_argument_dict(mol, grid, rho)\n",
    "    kwargs[\"solver\"] = \"cvxopt\"\n",
    "    kwargs[\"solver_options\"] = {\"feastol\": kwargs[\"threshold\"]}\n",
    "    part = GlobalLinearISAWPart(**kwargs)\n",
    "    part.do_all()\n",
    "    print_results(part)\n",
    "\n",
    "\n",
    "convex_optimization_with_non_negative_params()"
   ]
  },
  {
   "cell_type": "markdown",
   "id": "aae33f2a329e64b",
   "metadata": {},
   "source": [
    "If negative parameters are allowed, one should set `allow_neg_pars` to `True`."
   ]
  },
  {
   "cell_type": "code",
   "execution_count": null,
   "id": "2213d646a0886a03",
   "metadata": {},
   "outputs": [],
   "source": [
    "def convex_optimization_with_negative_params():\n",
    "    kwargs = prepare_argument_dict(mol, grid, rho)\n",
    "    kwargs[\"solver\"] = \"cvxopt\"\n",
    "    kwargs[\"solver_options\"] = {\"feastol\": kwargs[\"threshold\"], \"allow_neg_pars\": True}\n",
    "    part = GlobalLinearISAWPart(**kwargs)\n",
    "    try:\n",
    "        part.do_all()\n",
    "        print_results(part)\n",
    "    except RuntimeError as e:\n",
    "        print(e)\n",
    "\n",
    "\n",
    "convex_optimization_with_negative_params()"
   ]
  },
  {
   "cell_type": "markdown",
   "id": "3236486295ff1bfc",
   "metadata": {},
   "source": [
    "### Trust-region method\n",
    "\n",
    "The optimization problem is solved by using trust constraint solver and all parameters are non-negative.\n"
   ]
  },
  {
   "cell_type": "code",
   "execution_count": null,
   "id": "e875eee885634a21",
   "metadata": {},
   "outputs": [],
   "source": [
    "def trust_region_explicitly():\n",
    "    \"\"\"Global LISA by solving constraint optimization problem (using trust constraint solver.\"\"\"\n",
    "    kwargs = prepare_argument_dict(mol, grid, rho)\n",
    "    kwargs[\"solver\"] = \"trust-region\"\n",
    "    kwargs[\"solver_options\"] = {\"allow_neg_pars\": False}\n",
    "    part = GlobalLinearISAWPart(**kwargs)\n",
    "    part.do_all()\n",
    "    print_results(part)\n",
    "\n",
    "\n",
    "trust_region_explicitly()"
   ]
  },
  {
   "cell_type": "markdown",
   "id": "fe29f0c754626048",
   "metadata": {},
   "source": [
    "If negative parameters are allowed, one should set `allow_neg_pars` to `True`."
   ]
  },
  {
   "cell_type": "code",
   "execution_count": null,
   "id": "5e6ebb49ab06eb9c",
   "metadata": {},
   "outputs": [],
   "source": [
    "def trust_region_implicitly():\n",
    "    \"\"\"Global LISA by solving constraint optimization problem (using trust constraint solver with negative parameters allowed.)\"\"\"\n",
    "    kwargs = prepare_argument_dict(mol, grid, rho)\n",
    "    kwargs[\"solver\"] = \"trust-region\"\n",
    "    kwargs[\"solver_options\"] = {\"allow_neg_pars\": True}\n",
    "    part = GlobalLinearISAWPart(**kwargs)\n",
    "    part.do_all()\n",
    "    print_results(part)\n",
    "\n",
    "\n",
    "trust_region_implicitly()"
   ]
  },
  {
   "cell_type": "markdown",
   "id": "2a24b5c27769daa2",
   "metadata": {},
   "source": [
    "## Non-linear equations (fixed-point equations)\n",
    "\n",
    "### Self-consistent method\n",
    "\n",
    "An equivalent fixed-point problem is addressed by using self-consistent solver and non-negative parameters are guaranteed.\n"
   ]
  },
  {
   "cell_type": "code",
   "execution_count": null,
   "id": "c89f317fd71836b7",
   "metadata": {},
   "outputs": [],
   "source": [
    "def self_consistent_method():\n",
    "    \"\"\"Global LISA with self-consistent solver.\"\"\"\n",
    "    kwargs = prepare_argument_dict(mol, grid, rho)\n",
    "    kwargs[\"solver\"] = \"sc\"\n",
    "    part = GlobalLinearISAWPart(**kwargs)\n",
    "    part.do_all()\n",
    "    print_results(part)\n",
    "\n",
    "\n",
    "self_consistent_method()"
   ]
  },
  {
   "cell_type": "markdown",
   "id": "58bc0ee945a87887",
   "metadata": {},
   "source": [
    "### Direct Inversion of Iterative Space (DIIS)\n",
    "\n",
    "An equivalent fixed-point problem is addressed by using self-consistent solver and non-negative parameters are guaranteed.\n"
   ]
  },
  {
   "cell_type": "code",
   "execution_count": null,
   "id": "8de04697571ef57d",
   "metadata": {},
   "outputs": [],
   "source": [
    "def diis_method():\n",
    "    \"\"\"Global LISA with DIIS solver.\"\"\"\n",
    "    kwargs = prepare_argument_dict(mol, grid, rho)\n",
    "    kwargs[\"solver\"] = \"diis\"\n",
    "    kwargs[\"solver_options\"] = {\"diis_size\": 8, \"version\": \"A\"}\n",
    "    part = GlobalLinearISAWPart(**kwargs)\n",
    "    part.do_all()\n",
    "    print_results(part)\n",
    "\n",
    "\n",
    "# not robust\n",
    "diis_method()"
   ]
  },
  {
   "cell_type": "code",
   "execution_count": null,
   "id": "5bb7a88c8e096446",
   "metadata": {},
   "outputs": [],
   "source": [
    "def cdiis_method():\n",
    "    \"\"\"Global LISA with DIIS solver.\"\"\"\n",
    "    kwargs = prepare_argument_dict(mol, grid, rho)\n",
    "    kwargs[\"solver\"] = \"cdiis\"\n",
    "    kwargs[\"solver_options\"] = {\"diis_size\": 8, \"param\": 1e-5, \"mode\": \"AD-CDIIS\"}\n",
    "    part = GlobalLinearISAWPart(**kwargs)\n",
    "    part.do_all()\n",
    "    print_results(part)\n",
    "\n",
    "\n",
    "# not robust\n",
    "cdiis_method()"
   ]
  },
  {
   "cell_type": "code",
   "execution_count": null,
   "id": "98ab4757-2923-40c0-9e61-dadc681dc105",
   "metadata": {},
   "outputs": [],
   "source": []
  }
 ],
 "metadata": {
  "kernelspec": {
   "display_name": "Python 3 (ipykernel)",
   "language": "python",
   "name": "python3"
  },
  "language_info": {
   "codemirror_mode": {
    "name": "ipython",
    "version": 3
   },
   "file_extension": ".py",
   "mimetype": "text/x-python",
   "name": "python",
   "nbconvert_exporter": "python",
   "pygments_lexer": "ipython3"
  }
 },
 "nbformat": 4,
 "nbformat_minor": 5
}
