{
 "cells": [
  {
   "cell_type": "markdown",
   "id": "449802b253497da8",
   "metadata": {},
   "source": [
    "# Global Linear Iterative Stockholder Analysis (GL-ISA) schemes\n",
    "\n",
    "## Non-linear optimization problem\n",
    "\n",
    "### Convex optimization method\n"
   ]
  },
  {
   "cell_type": "code",
   "execution_count": null,
   "id": "bb30c59cf6e20367",
   "metadata": {},
   "outputs": [],
   "source": [
    "from setup import *\n",
    "\n",
    "from horton_part.lisa_g import GLisaConvexOptWPart\n",
    "\n",
    "mol, grid, rho = prepare_grid_and_dens(\"data/h2o.fchk\")\n",
    "\n",
    "\n",
    "def main_lisa_g_101():\n",
    "    \"\"\"Global LISA by solving convex optimization problem.\"\"\"\n",
    "    part = GLisaConvexOptWPart(**prepare_argument_dict(mol, grid, rho))\n",
    "    part.do_all()\n",
    "    print_results(part)\n",
    "\n",
    "\n",
    "main_lisa_g_101()"
   ]
  },
  {
   "cell_type": "markdown",
   "id": "aae33f2a329e64b",
   "metadata": {},
   "source": [
    "If negative parameters are allowed, one should use `GLisaConvexOptNWPart` instead of `GLisaConvexOptWpart`."
   ]
  },
  {
   "cell_type": "code",
   "execution_count": null,
   "id": "2213d646a0886a03",
   "metadata": {},
   "outputs": [],
   "source": [
    "from horton_part.lisa_g import GLisaConvexOptNWPart\n",
    "\n",
    "\n",
    "def main_lisa_g_104():\n",
    "    \"\"\"Global LISA by solving constraint optimization problem (using trust constraint solver.\"\"\"\n",
    "    part = GLisaConvexOptNWPart(**prepare_argument_dict(mol, grid, rho))\n",
    "    part.do_all()\n",
    "    print_results(part)\n",
    "\n",
    "\n",
    "main_lisa_g_104()"
   ]
  },
  {
   "cell_type": "markdown",
   "id": "3236486295ff1bfc",
   "metadata": {},
   "source": [
    "### Trust-region method\n",
    "\n",
    "The optimization problem is solved by using trust constraint solver and all parameters are non-negative.\n"
   ]
  },
  {
   "cell_type": "code",
   "execution_count": null,
   "id": "e875eee885634a21",
   "metadata": {},
   "outputs": [],
   "source": [
    "from horton_part.lisa_g import GLisaTrustConstrainWPart\n",
    "\n",
    "\n",
    "def main_lisa_g_301():\n",
    "    \"\"\"Global LISA by solving constraint optimization problem (using trust constraint solver.\"\"\"\n",
    "    part = GLisaTrustConstrainWPart(**prepare_argument_dict(mol, grid, rho))\n",
    "    part.do_all()\n",
    "    print_results(part)\n",
    "\n",
    "\n",
    "main_lisa_g_301()"
   ]
  },
  {
   "cell_type": "markdown",
   "id": "fe29f0c754626048",
   "metadata": {},
   "source": [
    "If negative parameters are allowed, one should use `GLisaTrustConstrainWPart` instead of `GLisaTrustConstrainWpart`."
   ]
  },
  {
   "cell_type": "code",
   "execution_count": null,
   "id": "5e6ebb49ab06eb9c",
   "metadata": {},
   "outputs": [],
   "source": [
    "from horton_part.lisa_g import GLisaTrustConstrainNWPart\n",
    "\n",
    "\n",
    "def main_lisa_g_302():\n",
    "    \"\"\"Global LISA by solving constraint optimization problem (using trust constraint solver with negative parameters allowed.)\"\"\"\n",
    "    part = GLisaTrustConstrainNWPart(**prepare_argument_dict(mol, grid, rho))\n",
    "    part.do_all()\n",
    "    print_results(part)\n",
    "\n",
    "\n",
    "main_lisa_g_302()"
   ]
  },
  {
   "cell_type": "markdown",
   "id": "2a24b5c27769daa2",
   "metadata": {},
   "source": [
    "## Non-linear equations (fixed-point equations)\n",
    "\n",
    "### Self-consistent method\n",
    "\n",
    "An equivalent fixed-point problem is addressed by using self-consistent solver and non-negative parameters are guaranteed.\n"
   ]
  },
  {
   "cell_type": "code",
   "execution_count": null,
   "id": "c89f317fd71836b7",
   "metadata": {},
   "outputs": [],
   "source": [
    "from horton_part.lisa_g import GLisaSelfConsistentWPart\n",
    "\n",
    "\n",
    "def main_lisa_g_201():\n",
    "    \"\"\"Global LISA with self-consistent solver.\"\"\"\n",
    "    part = GLisaSelfConsistentWPart(**prepare_argument_dict(mol, grid, rho))\n",
    "    part.do_all()\n",
    "    print_results(part)\n",
    "\n",
    "\n",
    "main_lisa_g_201()"
   ]
  },
  {
   "cell_type": "markdown",
   "id": "58bc0ee945a87887",
   "metadata": {},
   "source": [
    "### DIIS\n",
    "\n",
    "An equivalent fixed-point problem is addressed by using self-consistent solver and non-negative parameters are guaranteed.\n"
   ]
  },
  {
   "cell_type": "code",
   "execution_count": null,
   "id": "8de04697571ef57d",
   "metadata": {},
   "outputs": [],
   "source": [
    "from horton_part.lisa_g import GLisaDIISWPart\n",
    "\n",
    "\n",
    "def main_lisa_g_206():\n",
    "    \"\"\"Global LISA with DIIS solver.\"\"\"\n",
    "    part = GLisaDIISWPart(**prepare_argument_dict(mol, grid, rho))\n",
    "    part.do_all()\n",
    "\n",
    "    print(\"charges:\")\n",
    "    print(part.cache[\"charges\"])\n",
    "    print(\"cartesian multipoles:\")\n",
    "    print(part.cache[\"cartesian_multipoles\"])\n",
    "\n",
    "\n",
    "main_lisa_g_206()"
   ]
  },
  {
   "cell_type": "code",
   "execution_count": null,
   "id": "5bb7a88c8e096446",
   "metadata": {},
   "outputs": [],
   "source": []
  }
 ],
 "metadata": {
  "kernelspec": {
   "display_name": "Python 3",
   "language": "python",
   "name": "python3"
  },
  "language_info": {
   "codemirror_mode": {
    "name": "ipython",
    "version": 2
   },
   "file_extension": ".py",
   "mimetype": "text/x-python",
   "name": "python",
   "nbconvert_exporter": "python",
   "pygments_lexer": "ipython2"
  }
 },
 "nbformat": 4,
 "nbformat_minor": 5
}
