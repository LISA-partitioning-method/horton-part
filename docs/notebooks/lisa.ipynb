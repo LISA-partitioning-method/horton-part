{
 "cells": [
  {
   "cell_type": "markdown",
   "id": "5faaac0467473170",
   "metadata": {},
   "source": [
    "# Local Linear Iterative Stockholder Analysis (L-ISA) schemes"
   ]
  },
  {
   "cell_type": "markdown",
   "id": "787b803e-52b7-4523-9b3c-8f8a803030ca",
   "metadata": {},
   "source": [
    "First, we need to import the required packages. In this tutorial, we will use `LinearISAWPart`, which includes various L-ISA schemes."
   ]
  },
  {
   "cell_type": "code",
   "execution_count": null,
   "id": "7411bb7d-1f9c-4b77-ac41-045050f2f787",
   "metadata": {},
   "outputs": [],
   "source": [
    "import logging\n",
    "\n",
    "import numpy as np\n",
    "from setup import prepare_argument_dict, prepare_grid_and_dens, print_results\n",
    "\n",
    "from horton_part import BasisFuncHelper, LinearISAWPart\n",
    "\n",
    "logging.basicConfig(level=logging.INFO, format=\"%(levelname)s:    %(message)s\")"
   ]
  },
  {
   "cell_type": "markdown",
   "id": "f3481111-7d14-4305-aa2c-d5043e2140aa",
   "metadata": {},
   "source": [
    "Next, we will continue to use a water molecule as an example and prepare the molecular grid and density using the helper function `prepare_grid_and_dens`. The input for this function is the filename of a Gaussian checkpoint file with an `fchk` extension."
   ]
  },
  {
   "cell_type": "code",
   "execution_count": null,
   "id": "220dc151-76ac-4568-b056-62bce4a2683e",
   "metadata": {},
   "outputs": [],
   "source": [
    "mol, grid, rho = prepare_grid_and_dens(\"data/h2o.fchk\")"
   ]
  },
  {
   "cell_type": "markdown",
   "id": "e0ba901a-0f0b-4379-a84f-7c3506963d6a",
   "metadata": {},
   "source": [
    "There are two ways to address the optimization problem of partitioning a molecule into atomic contributions:\n",
    "\n",
    "- Directly solving the constrained non-linear optimization problem.\n",
    "- Solving non-linear equations.\n",
    "\n",
    "These two methods are equivalent in principle.\n",
    "\n",
    "## Non-linear Optimization Problem\n",
    "\n",
    "In this section, we focus on the first approach: directly solving the non-linear optimization problem. The local constrained optimization can be solved in various ways, either by direct minimization with the constraints taken into account, or by solving the resulting local non-linear Euler-Lagrange equations. The latter is equivalent to solving non-linear equations or fixed-point problems.\n",
    "\n",
    "In the `horton-part` package, two solvers are employed for direct minimization:\n",
    "\n",
    "- Convex optimization (101)\n",
    "- Trust-region method (301, 302)\n",
    "\n",
    "Meanwhile, three solvers are used for solving non-linear equations:\n",
    "\n",
    "- Self-consistent method (201)\n",
    "- Newton method (202)\n",
    "- Direct inversion in iterative space (203)\n",
    "\n",
    "Different numbers are used to identify each corresponding solver.\n",
    "\n",
    "### Convex Optimization Method\n",
    "\n"
   ]
  },
  {
   "cell_type": "code",
   "execution_count": null,
   "id": "f1bd48f2-e097-4ce2-91b8-9884fb950f4d",
   "metadata": {},
   "outputs": [],
   "source": [
    "def convex_optimization():\n",
    "    \"\"\"Local LISA by solving convex optimization problem.\"\"\"\n",
    "    kwargs = prepare_argument_dict(mol, grid, rho)\n",
    "    kwargs[\"solver\"] = 101\n",
    "    part = LinearISAWPart(**kwargs)\n",
    "    part.do_all()\n",
    "    print_results(part)\n",
    "\n",
    "\n",
    "convex_optimization()"
   ]
  },
  {
   "cell_type": "markdown",
   "id": "9437937632bdf5d6",
   "metadata": {},
   "source": [
    "### Trust-Region Method\n",
    "\n",
    "TODO: The trust-region method, which operates implicitly, is attributed to the third category. However, it can be demonstrated that it is equivalent to the first category, and thus we introduce it here."
   ]
  },
  {
   "cell_type": "code",
   "execution_count": null,
   "id": "e8670a628da6da6a",
   "metadata": {},
   "outputs": [],
   "source": [
    "def trust_region_implicitly():\n",
    "    kwargs = prepare_argument_dict(mol, grid, rho)\n",
    "    kwargs[\"solver\"] = 301\n",
    "    part = LinearISAWPart(**kwargs)\n",
    "    part.do_all()\n",
    "    print_results(part)\n",
    "\n",
    "\n",
    "trust_region_implicitly()"
   ]
  },
  {
   "cell_type": "markdown",
   "id": "cb042346e164ef39",
   "metadata": {},
   "source": [
    "One can also explicitly add constraints. This method falls into the first category, that is, direct minimization."
   ]
  },
  {
   "cell_type": "code",
   "execution_count": null,
   "id": "3fb425c0fc0ad462",
   "metadata": {},
   "outputs": [],
   "source": [
    "def trust_region_explicitly():\n",
    "    kwargs = prepare_argument_dict(mol, grid, rho)\n",
    "    kwargs[\"solver\"] = 302\n",
    "    part = LinearISAWPart(**kwargs)\n",
    "    part.do_all()\n",
    "    print_results(part)\n",
    "\n",
    "\n",
    "trust_region_explicitly()"
   ]
  },
  {
   "cell_type": "markdown",
   "id": "28754f1ebcdf62cf",
   "metadata": {},
   "source": [
    "## Non-linear Equations (Fixed-point Equations)\n",
    "\n",
    "Direct minimization can be transformed into a set of non-linear equations using non-linear Euler-Lagrange equations, which are also known as fixed-point equations. Therefore, they can be solved by different methods, and we have implemented three distinct solvers.\n",
    "\n",
    "### Self-Consistent Method\n",
    "\n",
    "The first one is called the self-consistent method, an iterative approach to solving fixed-point equations by using the previous solution as the input for the next step. It has been proven to always converge in a finite number of iterations to any given convergence criteria, making it a robust method. Another feature of this method is that it always guarantees non-negative parameters during the minimization.\n",
    "\n",
    "However, one technical issue with this method is that slow convergence can arise in practice."
   ]
  },
  {
   "cell_type": "code",
   "execution_count": null,
   "id": "e490693a1b12b1a6",
   "metadata": {},
   "outputs": [],
   "source": [
    "def self_consistent_method():\n",
    "    kwargs = prepare_argument_dict(mol, grid, rho)\n",
    "    kwargs[\"solver\"] = 201\n",
    "    part = LinearISAWPart(**kwargs)\n",
    "    part.do_all()\n",
    "    print_results(part)\n",
    "\n",
    "\n",
    "self_consistent_method()"
   ]
  },
  {
   "cell_type": "markdown",
   "id": "4d74bff3ed5ce5e3",
   "metadata": {},
   "source": [
    "### Direct Inversion in Iterative Space (DIIS)\n",
    "\n",
    "This method has been extensively used to solve self-consistent field (SCF) problems in the fields of quantum chemistry and physics. In this tutorial, we employ this method to accelerate the solving of fixed-point problems.\n",
    "\n",
    "It should be noted that one potential issue with this method is that non-negative parameters cannot be guaranteed during optimization in the conventional DIIS approach. Although this issue can be addressed by explicitly introducing constraints to the linear combination coefficients, key concepts in DIIS, numerical issues may still arise, such as singular matrices or convergence problems."
   ]
  },
  {
   "cell_type": "code",
   "execution_count": null,
   "id": "67af286895c573ac",
   "metadata": {},
   "outputs": [],
   "source": [
    "def diis_method():\n",
    "    kwargs = prepare_argument_dict(mol, grid, rho)\n",
    "    kwargs[\"solver\"] = 202\n",
    "    part = LinearISAWPart(**kwargs)\n",
    "    part.do_all()\n",
    "    print_results(part)\n",
    "\n",
    "\n",
    "diis_method()"
   ]
  },
  {
   "cell_type": "markdown",
   "id": "c06e4cf1b85242d0",
   "metadata": {},
   "source": [
    "### Newton Method\n",
    "\n",
    "The final method is the Newton method. Similarly to the previous methods, the Newton method cannot guarantee non-negative parameters, and negative pro-atom densities may arise during optimization. To address this, one might need to modify the hyper-parameters used in the method for different systems, which can make it less robust."
   ]
  },
  {
   "cell_type": "code",
   "execution_count": null,
   "id": "6c8e1e1dad418c45",
   "metadata": {},
   "outputs": [],
   "source": [
    "def newton_method():\n",
    "    kwargs = prepare_argument_dict(mol, grid, rho)\n",
    "    kwargs[\"solver\"] = 203\n",
    "    part = LinearISAWPart(**kwargs)\n",
    "    part.do_all()\n",
    "    print_results(part)\n",
    "\n",
    "\n",
    "newton_method()"
   ]
  },
  {
   "cell_type": "markdown",
   "id": "6b05f39e-092e-4fbd-ae30-3eb8aa28ef65",
   "metadata": {},
   "source": [
    "## Customized Methods\n",
    "\n",
    "One can also apply customized solvers. Next, we will implement and apply a modified version of the self-consistent method."
   ]
  },
  {
   "cell_type": "code",
   "execution_count": null,
   "id": "c981927d-f6de-49d5-8258-48fbe4e36f52",
   "metadata": {},
   "outputs": [],
   "source": [
    "def customize_self_consistent_solver(\n",
    "    bs_funcs, rho, propars, points, weights, threshold, density_cutoff\n",
    "):\n",
    "    r\"\"\"\n",
    "    Optimize parameters for proatom density functions using a self-consistent (SC) method.\n",
    "\n",
    "    .. math::\n",
    "\n",
    "        N_{Ai} = \\int \\rho_A(r) \\frac{\\rho_{Ai}^0(r)}{\\rho_A^0(r)} dr\n",
    "\n",
    "    Parameters\n",
    "    ----------\n",
    "    bs_funcs : 2D np.ndarray\n",
    "        Basis functions array with shape (M, N), where 'M' is the number of basis functions\n",
    "        and 'N' is the number of grid points.\n",
    "    rho : 1D np.ndarray\n",
    "        Spherically-averaged atomic density as a function of radial distance, with shape (N,).\n",
    "    propars : 1D np.ndarray\n",
    "        Pro-atom parameters with shape (M). 'M' is the number of basis functions.\n",
    "    points : 1D np.ndarray\n",
    "        Radial coordinates of grid points, with shape (N,).\n",
    "    weights : 1D np.ndarray\n",
    "        Weights for integration, including the angular part (4πr²), with shape (N,).\n",
    "    threshold : float\n",
    "        Convergence threshold for the iterative process.\n",
    "    density_cutoff : float\n",
    "        Density values below this cutoff are considered invalid.\n",
    "\n",
    "    Returns\n",
    "    -------\n",
    "    1D np.ndarray\n",
    "        Optimized proatom parameters.\n",
    "\n",
    "    Raises\n",
    "    ------\n",
    "    RuntimeError\n",
    "        If the inner iteration does not converge.\n",
    "\n",
    "    \"\"\"\n",
    "    pro_shells = bs_funcs * propars[:, None]\n",
    "    pro_density = np.einsum(\"ij->j\", pro_shells)\n",
    "    sick = (rho < density_cutoff) | (pro_density < density_cutoff)\n",
    "    ratio = np.divide(rho, pro_density, out=np.zeros_like(rho), where=~sick)\n",
    "    propars[:] = np.einsum(\"p,ip->i\", weights, pro_shells * ratio)\n",
    "    return propars"
   ]
  },
  {
   "cell_type": "code",
   "execution_count": null,
   "id": "7e8a6869-cb0c-482d-875d-f6e81e13f55b",
   "metadata": {},
   "outputs": [],
   "source": [
    "def customized_self_consistent_method():\n",
    "    kwargs = prepare_argument_dict(mol, grid, rho)\n",
    "    kwargs[\"solver\"] = customize_self_consistent_solver\n",
    "    part = LinearISAWPart(**kwargs)\n",
    "    part.do_all()\n",
    "    print_results(part)\n",
    "\n",
    "\n",
    "customized_self_consistent_method()"
   ]
  },
  {
   "cell_type": "markdown",
   "id": "215642b3-9a81-4461-853d-9dc97c1565dd",
   "metadata": {},
   "source": [
    "One can also apply customized basis functions using the `BasisFuncHelper` class. First, we need to define the basis functions, which should adhere to the following general format:\n",
    "\n",
    "$$\n",
    "  f_{ak} = c_{ak} \\exp^{-\\alpha_{ak} |r|^{n_{ak}}}\n",
    "$$\n",
    "\n",
    "Here, $c_{ak}$ represents the prefactors and the pro-atom parameters to be determined; $\\alpha_{ak}$ is the exponential coefficient; and $n_{ak}$ corresponds to the power of the exponential function. The subscripts $a$ and $k$ denote the indices of atoms and basis functions, respectively.\n",
    "\n",
    "We initialize `BasisFuncHelper` using the default method, and therefore need to provide the $\\alpha_{ak}$ (`exponents`), $n_{ak}$ (`exponents_orders`), and initial values of $c_{ak}$ (`initials`). To illustrate the functionality, we use three exponential functions with different $n$ values, i.e., 1 (Slater type), 1.5, and 2 (Gaussian type)."
   ]
  },
  {
   "cell_type": "code",
   "execution_count": null,
   "id": "48cf4497-dc3e-4295-ace4-4e4630d48d47",
   "metadata": {},
   "outputs": [],
   "source": [
    "bs_dict = {\n",
    "    \"exponents_orders\": {1: [1, 1.5, 2], 8: [1, 1.5, 2]},\n",
    "    \"exponents\": {1: [0.1, 0.2, 0.3], 8: [1.0, 2.0, 3.0]},\n",
    "    \"initials\": {1: [0.33] * 3, 8: [0.33] * 3},\n",
    "}\n",
    "basis_helper = BasisFuncHelper(**bs_dict)"
   ]
  },
  {
   "cell_type": "markdown",
   "id": "82858538-b2d7-4764-961c-a25b91c4c88d",
   "metadata": {},
   "source": [
    "It should be noted that one can also initialize a `BasisFuncHelper` through a `json` file by calling `BasisFuncHelper.from_json('json_file_path.json')`.\n",
    "\n",
    "Next, we can apply the newly customized basis functions and the self-consistent solver. It is important to note"
   ]
  },
  {
   "cell_type": "code",
   "execution_count": null,
   "id": "8e791148-6042-426f-8723-80b2248cd85c",
   "metadata": {},
   "outputs": [],
   "source": [
    "def customized_basis_functions():\n",
    "    kwargs = prepare_argument_dict(mol, grid, rho)\n",
    "    kwargs[\"solver\"] = customize_self_consistent_solver\n",
    "    kwargs[\"basis_func\"] = basis_helper\n",
    "    part = LinearISAWPart(**kwargs)\n",
    "    part.do_all()\n",
    "    print_results(part)\n",
    "\n",
    "\n",
    "customized_basis_functions()"
   ]
  },
  {
   "cell_type": "code",
   "execution_count": null,
   "id": "5d32434a-cc0e-4ed4-926e-fb8cd64cda60",
   "metadata": {},
   "outputs": [],
   "source": []
  }
 ],
 "metadata": {
  "kernelspec": {
   "display_name": "Python 3 (ipykernel)",
   "language": "python",
   "name": "python3"
  },
  "language_info": {
   "codemirror_mode": {
    "name": "ipython",
    "version": 3
   },
   "file_extension": ".py",
   "mimetype": "text/x-python",
   "name": "python",
   "nbconvert_exporter": "python",
   "pygments_lexer": "ipython3"
  }
 },
 "nbformat": 4,
 "nbformat_minor": 5
}
