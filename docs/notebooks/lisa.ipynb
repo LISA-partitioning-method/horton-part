{
 "cells": [
  {
   "cell_type": "markdown",
   "id": "05e29b04-4af3-4954-ada4-5191871ac863",
   "metadata": {},
   "source": [
    "# Alternating Linear approximation of the ISA (aLISA) method\n",
    "\n",
    "## Non-linear optimization problem"
   ]
  },
  {
   "cell_type": "code",
   "execution_count": null,
   "id": "894e7957ebe70591",
   "metadata": {},
   "outputs": [],
   "source": [
    "import numpy as np\n",
    "from setup import prepare_argument_dict, prepare_grid_and_dens, print_results\n",
    "\n",
    "from horton_part import BasisFuncHelper, ExpBasisFuncHelper, LinearISAWPart"
   ]
  },
  {
   "cell_type": "markdown",
   "id": "5faaac0467473170",
   "metadata": {},
   "source": [
    "\n",
    "### Convex optimization method\n"
   ]
  },
  {
   "cell_type": "code",
   "execution_count": null,
   "id": "6f493b86-ae0c-4438-98b4-4267a4782d74",
   "metadata": {},
   "outputs": [],
   "source": [
    "mol, grid, rho = prepare_grid_and_dens(\"data/h2o.fchk\")\n",
    "\n",
    "\n",
    "def use_cvxopt_solver():\n",
    "    \"\"\"Local LISA by solving convex optimization problem.\"\"\"\n",
    "    kwargs = prepare_argument_dict(mol, grid, rho)\n",
    "    kwargs[\"solver\"] = \"cvxopt\"\n",
    "    part = LinearISAWPart(**kwargs)\n",
    "    part.do_all()\n",
    "    print_results(part)\n",
    "\n",
    "\n",
    "use_cvxopt_solver()"
   ]
  },
  {
   "cell_type": "markdown",
   "id": "32468345e516ec30",
   "metadata": {},
   "source": [
    "### Trust-region method"
   ]
  },
  {
   "cell_type": "code",
   "execution_count": null,
   "id": "f10b60633fff175d",
   "metadata": {},
   "outputs": [],
   "source": [
    "def use_trust_region_implicit_constr():\n",
    "    \"\"\"Local LISA by solving convex optimization problem.\"\"\"\n",
    "    kwargs = prepare_argument_dict(mol, grid, rho)\n",
    "    kwargs[\"solver\"] = \"trust-region\"\n",
    "    kwargs[\"solver_options\"] = {\"explicit_constr\": False}\n",
    "    part = LinearISAWPart(**kwargs)\n",
    "    part.do_all()\n",
    "    print_results(part)\n",
    "\n",
    "\n",
    "use_trust_region_implicit_constr()"
   ]
  },
  {
   "cell_type": "markdown",
   "id": "ea4be2236da70838",
   "metadata": {},
   "source": [
    "## Non-linear equations (fixed-point equations)\n",
    "\n",
    "### Self-consistent method\n"
   ]
  },
  {
   "cell_type": "code",
   "execution_count": null,
   "id": "37bf79fe25968b8a",
   "metadata": {},
   "outputs": [],
   "source": [
    "def use_sc_solver():\n",
    "    \"\"\"Self-consistent solver.\"\"\"\n",
    "    kwargs = prepare_argument_dict(mol, grid, rho)\n",
    "    kwargs[\"solver\"] = \"sc\"\n",
    "    part = LinearISAWPart(**kwargs)\n",
    "    part.do_all()\n",
    "    print_results(part)\n",
    "\n",
    "\n",
    "use_sc_solver()"
   ]
  },
  {
   "cell_type": "markdown",
   "id": "4d74bff3ed5ce5e3",
   "metadata": {},
   "source": [
    "### Direct Inversion in Iterative Space (DIIS)\n",
    "\n",
    "This method has been extensively used to solve self-consistent field (SCF) problems in the fields of quantum chemistry and physics. In this tutorial, we employ this method to accelerate the solving of fixed-point problems.\n",
    "\n",
    "It should be noted that one potential issue with this method is that non-negative parameters cannot be guaranteed during optimization in the conventional DIIS approach. Although this issue can be addressed by explicitly introducing constraints to the linear combination coefficients, key concepts in DIIS, numerical issues may still arise, such as singular matrices or convergence problems."
   ]
  },
  {
   "cell_type": "code",
   "execution_count": null,
   "id": "67af286895c573ac",
   "metadata": {},
   "outputs": [],
   "source": [
    "def use_diis_solver():\n",
    "    kwargs = prepare_argument_dict(mol, grid, rho)\n",
    "    kwargs[\"solver\"] = \"diis\"\n",
    "    part = LinearISAWPart(**kwargs)\n",
    "    part.do_all()\n",
    "    print_results(part)\n",
    "\n",
    "\n",
    "use_diis_solver()"
   ]
  },
  {
   "cell_type": "markdown",
   "id": "c06e4cf1b85242d0",
   "metadata": {},
   "source": [
    "### Newton Method\n",
    "\n",
    "The final method is the Newton method. Similarly to the previous methods, the Newton method cannot guarantee non-negative parameters, and negative pro-atom densities may arise during optimization. To address this, one might need to modify the hyper-parameters used in the method for different systems, which can make it less robust."
   ]
  },
  {
   "cell_type": "code",
   "execution_count": null,
   "id": "6c8e1e1dad418c45",
   "metadata": {},
   "outputs": [],
   "source": [
    "def newton_method():\n",
    "    kwargs = prepare_argument_dict(mol, grid, rho)\n",
    "    kwargs[\"solver\"] = \"newton\"\n",
    "    part = LinearISAWPart(**kwargs)\n",
    "    part.do_all()\n",
    "    print_results(part)\n",
    "\n",
    "\n",
    "newton_method()"
   ]
  },
  {
   "cell_type": "markdown",
   "id": "6b05f39e-092e-4fbd-ae30-3eb8aa28ef65",
   "metadata": {},
   "source": [
    "## Customized Methods\n",
    "\n",
    "One can also apply customized solvers. Next, we will implement and apply a modified version of the self-consistent method."
   ]
  },
  {
   "cell_type": "code",
   "execution_count": null,
   "id": "c981927d-f6de-49d5-8258-48fbe4e36f52",
   "metadata": {},
   "outputs": [],
   "source": [
    "def customize_self_consistent_solver(\n",
    "    bs_funcs,\n",
    "    rho,\n",
    "    propars,\n",
    "    points,\n",
    "    weights,\n",
    "    threshold,\n",
    "    logger,\n",
    "    density_cutoff,\n",
    "    negative_cutoff,\n",
    "    population_cutoff,\n",
    "):\n",
    "    r\"\"\"\n",
    "    Optimize parameters for proatom density functions using a self-consistent (SC) method.\n",
    "\n",
    "    .. math::\n",
    "\n",
    "        N_{Ai} = \\int \\rho_A(r) \\frac{\\rho_{Ai}^0(r)}{\\rho_A^0(r)} dr\n",
    "\n",
    "    Parameters\n",
    "    ----------\n",
    "    bs_funcs : 2D np.ndarray\n",
    "        Basis functions array with shape (M, N), where 'M' is the number of basis functions\n",
    "        and 'N' is the number of grid points.\n",
    "    rho : 1D np.ndarray\n",
    "        Spherically-averaged atomic density as a function of radial distance, with shape (N,).\n",
    "    propars : 1D np.ndarray\n",
    "        Pro-atom parameters with shape (M). 'M' is the number of basis functions.\n",
    "    points : 1D np.ndarray\n",
    "        Radial coordinates of grid points, with shape (N,).\n",
    "    weights : 1D np.ndarray\n",
    "        Weights for integration, including the angular part (4πr²), with shape (N,).\n",
    "    threshold : float\n",
    "        Convergence threshold for the iterative process.\n",
    "    density_cutoff : float\n",
    "        Density values below this cutoff are considered invalid.\n",
    "    negative_cutoff : float\n",
    "        The value less than `negative_cutoff` is treated as negative.\n",
    "    population_cutoff : float\n",
    "        The criteria for the difference between the sum of propars and reference population.\n",
    "\n",
    "\n",
    "    Returns\n",
    "    -------\n",
    "    1D np.ndarray\n",
    "        Optimized proatom parameters.\n",
    "\n",
    "    Raises\n",
    "    ------\n",
    "    RuntimeError\n",
    "        If the inner iteration does not converge.\n",
    "\n",
    "    \"\"\"\n",
    "    pro_shells = bs_funcs * propars[:, None]\n",
    "    pro_density = np.einsum(\"ij->j\", pro_shells)\n",
    "    sick = (rho < density_cutoff) | (pro_density < density_cutoff)\n",
    "    ratio = np.divide(rho, pro_density, out=np.zeros_like(rho), where=~sick)\n",
    "    propars[:] = np.einsum(\"p,ip->i\", weights, pro_shells * ratio)\n",
    "    return propars"
   ]
  },
  {
   "cell_type": "code",
   "execution_count": null,
   "id": "7e8a6869-cb0c-482d-875d-f6e81e13f55b",
   "metadata": {},
   "outputs": [],
   "source": [
    "def customized_self_consistent_method():\n",
    "    kwargs = prepare_argument_dict(mol, grid, rho)\n",
    "    kwargs[\"solver\"] = customize_self_consistent_solver\n",
    "    part = LinearISAWPart(**kwargs)\n",
    "    part.do_all()\n",
    "    print_results(part)\n",
    "\n",
    "\n",
    "customized_self_consistent_method()"
   ]
  },
  {
   "cell_type": "markdown",
   "id": "215642b3-9a81-4461-853d-9dc97c1565dd",
   "metadata": {},
   "source": [
    "One can also apply customized basis functions using the `ExpBasisFuncHelper` class. First, we need to define the basis functions, which should adhere to the following general format:\n",
    "\n",
    "$$\n",
    "  f_{ak} = c_{ak} \\exp^{-\\alpha_{ak} |r|^{n_{ak}}}\n",
    "$$\n",
    "\n",
    "Here, $c_{ak}$ represents the prefactors and the pro-atom parameters to be determined; $\\alpha_{ak}$ is the exponential coefficient; and $n_{ak}$ corresponds to the power of the exponential function. The subscripts $a$ and $k$ denote the indices of atoms and basis functions, respectively.\n",
    "\n",
    "We initialize `ExpBasisFuncHelper` using the default method, and therefore need to provide the $\\alpha_{ak}$ (`exponents`), $n_{ak}$ (`exponents_orders`), and initial values of $c_{ak}$ (`initials`). To illustrate the functionality, we use three exponential functions with different $n$ values, i.e., 1 (Slater type), 1.5, and 2 (Gaussian type)."
   ]
  },
  {
   "cell_type": "code",
   "execution_count": null,
   "id": "48cf4497-dc3e-4295-ace4-4e4630d48d47",
   "metadata": {},
   "outputs": [],
   "source": [
    "bs_dict = {\n",
    "    \"exponents_orders\": {1: [1, 1.5, 2], 8: [1, 1.5, 2]},\n",
    "    \"exponents\": {1: [0.1, 0.2, 0.3], 8: [1.0, 2.0, 3.0]},\n",
    "    \"initials\": {1: [0.33] * 3, 8: [0.33] * 3},\n",
    "}\n",
    "basis_helper = ExpBasisFuncHelper(**bs_dict)"
   ]
  },
  {
   "cell_type": "markdown",
   "id": "82858538-b2d7-4764-961c-a25b91c4c88d",
   "metadata": {},
   "source": [
    "It should be noted that one can also initialize a `ExpBasisFuncHelper` through a `json` file by calling `ExpBasisFuncHelper.from_json('json_file_path.json')`.\n",
    "\n",
    "Next, we can apply the newly customized basis functions and the self-consistent solver. It is important to note"
   ]
  },
  {
   "cell_type": "code",
   "execution_count": null,
   "id": "8e791148-6042-426f-8723-80b2248cd85c",
   "metadata": {},
   "outputs": [],
   "source": [
    "def customized_basis_functions():\n",
    "    kwargs = prepare_argument_dict(mol, grid, rho)\n",
    "    kwargs[\"solver\"] = customize_self_consistent_solver\n",
    "    kwargs[\"basis_func\"] = basis_helper\n",
    "    part = LinearISAWPart(**kwargs)\n",
    "    part.do_all()\n",
    "    print_results(part)\n",
    "\n",
    "\n",
    "customized_basis_functions()"
   ]
  },
  {
   "cell_type": "code",
   "execution_count": null,
   "id": "5d32434a-cc0e-4ed4-926e-fb8cd64cda60",
   "metadata": {},
   "outputs": [],
   "source": []
  }
 ],
 "metadata": {
  "kernelspec": {
   "display_name": "Python 3 (ipykernel)",
   "language": "python",
   "name": "python3"
  },
  "language_info": {
   "codemirror_mode": {
    "name": "ipython",
    "version": 3
   },
   "file_extension": ".py",
   "mimetype": "text/x-python",
   "name": "python",
   "nbconvert_exporter": "python",
   "pygments_lexer": "ipython3"
  }
 },
 "nbformat": 4,
 "nbformat_minor": 5
}
