{
 "cells": [
  {
   "cell_type": "markdown",
   "id": "5faaac0467473170",
   "metadata": {},
   "source": [
    "# Local Linear Iterative Stockholder Analysis (L-ISA) schemes\n",
    "\n",
    "## Non-linear optimization problem\n",
    "\n",
    "### Convex optimization method\n"
   ]
  },
  {
   "cell_type": "code",
   "execution_count": null,
   "id": "22986a9bfc21594c",
   "metadata": {},
   "outputs": [],
   "source": [
    "from setup import prepare_argument_dict, prepare_grid_and_dens, print_results\n",
    "\n",
    "from horton_part import LinearISAWPart\n",
    "\n",
    "mol, grid, rho = prepare_grid_and_dens(\"data/h2o.fchk\")\n",
    "\n",
    "\n",
    "def main_lisa():\n",
    "    \"\"\"Local LISA by solving convex optimization problem.\"\"\"\n",
    "    kwargs = prepare_argument_dict(mol, grid, rho)\n",
    "    kwargs[\"solver\"] = 101\n",
    "    part = LinearISAWPart(**kwargs)\n",
    "    part.do_all()\n",
    "    print_results(part)\n",
    "\n",
    "\n",
    "main_lisa()"
   ]
  },
  {
   "cell_type": "markdown",
   "id": "9437937632bdf5d6",
   "metadata": {},
   "source": [
    "### Trust-region method"
   ]
  },
  {
   "cell_type": "code",
   "execution_count": null,
   "id": "e8670a628da6da6a",
   "metadata": {},
   "outputs": [],
   "source": [
    "def main_lisa_301():\n",
    "    \"\"\"Local LISA by solving convex optimization problem.\"\"\"\n",
    "    kwargs = prepare_argument_dict(mol, grid, rho)\n",
    "    kwargs[\"solver\"] = 301\n",
    "    part = LinearISAWPart(**kwargs)\n",
    "    part.do_all()\n",
    "    print_results(part)\n",
    "\n",
    "\n",
    "main_lisa_301()"
   ]
  },
  {
   "cell_type": "markdown",
   "id": "cb042346e164ef39",
   "metadata": {},
   "source": [
    "One can also add constraint explicitly"
   ]
  },
  {
   "cell_type": "code",
   "execution_count": null,
   "id": "3fb425c0fc0ad462",
   "metadata": {},
   "outputs": [],
   "source": [
    "def main_lisa_302():\n",
    "    \"\"\"Local LISA by solving convex optimization problem.\"\"\"\n",
    "    kwargs = prepare_argument_dict(mol, grid, rho)\n",
    "    kwargs[\"solver\"] = 302\n",
    "    part = LinearISAWPart(**kwargs)\n",
    "    part.do_all()\n",
    "    print_results(part)\n",
    "\n",
    "\n",
    "main_lisa_302()"
   ]
  },
  {
   "cell_type": "markdown",
   "id": "28754f1ebcdf62cf",
   "metadata": {},
   "source": [
    "## Non-linear equations (fixed-point equations)\n",
    "\n",
    "### Self-consistent method\n"
   ]
  },
  {
   "cell_type": "code",
   "execution_count": null,
   "id": "e490693a1b12b1a6",
   "metadata": {},
   "outputs": [],
   "source": [
    "def main_lisa_201():\n",
    "    \"\"\"Self-consistent solver.\"\"\"\n",
    "    kwargs = prepare_argument_dict(mol, grid, rho)\n",
    "    kwargs[\"solver\"] = 201\n",
    "    part = LinearISAWPart(**kwargs)\n",
    "    part.do_all()\n",
    "    print_results(part)\n",
    "\n",
    "\n",
    "main_lisa_201()"
   ]
  },
  {
   "cell_type": "markdown",
   "id": "4d74bff3ed5ce5e3",
   "metadata": {},
   "source": [
    "### DIIS"
   ]
  },
  {
   "cell_type": "code",
   "execution_count": null,
   "id": "67af286895c573ac",
   "metadata": {},
   "outputs": [],
   "source": [
    "def main_lisa_202():\n",
    "    \"\"\"Self-consistent solver.\"\"\"\n",
    "    kwargs = prepare_argument_dict(mol, grid, rho)\n",
    "    kwargs[\"solver\"] = 202\n",
    "    part = LinearISAWPart(**kwargs)\n",
    "    part.do_all()\n",
    "    print_results(part)\n",
    "\n",
    "\n",
    "main_lisa_202()"
   ]
  },
  {
   "cell_type": "markdown",
   "id": "c06e4cf1b85242d0",
   "metadata": {},
   "source": [
    "### Newton method"
   ]
  },
  {
   "cell_type": "code",
   "execution_count": null,
   "id": "6c8e1e1dad418c45",
   "metadata": {},
   "outputs": [],
   "source": [
    "def main_lisa_203():\n",
    "    \"\"\"Self-consistent solver.\"\"\"\n",
    "    kwargs = prepare_argument_dict(mol, grid, rho)\n",
    "    kwargs[\"solver\"] = 203\n",
    "    part = LinearISAWPart(**kwargs)\n",
    "    part.do_all()\n",
    "    print_results(part)\n",
    "\n",
    "\n",
    "main_lisa_203()"
   ]
  }
 ],
 "metadata": {
  "kernelspec": {
   "display_name": "Python 3",
   "language": "python",
   "name": "python3"
  },
  "language_info": {
   "codemirror_mode": {
    "name": "ipython",
    "version": 3
   },
   "file_extension": ".py",
   "mimetype": "text/x-python",
   "name": "python",
   "nbconvert_exporter": "python",
   "pygments_lexer": "ipython3"
  }
 },
 "nbformat": 4,
 "nbformat_minor": 5
}
