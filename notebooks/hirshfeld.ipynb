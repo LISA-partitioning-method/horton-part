{
 "cells": [
  {
   "cell_type": "markdown",
   "id": "0",
   "metadata": {},
   "source": [
    "# (Iterative) Hirshfeld method\n",
    "\n",
    "In this tutorial, we will introduce how to use the `horton_part` API method to execute (iterative) Hirshfeld partitioning methods.\n",
    "\n",
    "First, we import the required libraries."
   ]
  },
  {
   "cell_type": "code",
   "execution_count": 1,
   "id": "1",
   "metadata": {
    "execution": {
     "iopub.execute_input": "2025-05-19T11:16:33.538056Z",
     "iopub.status.busy": "2025-05-19T11:16:33.537501Z",
     "iopub.status.idle": "2025-05-19T11:16:33.932281Z",
     "shell.execute_reply": "2025-05-19T11:16:33.931877Z"
    }
   },
   "outputs": [],
   "source": [
    "import numpy as np\n",
    "from gbasis.evals.eval import evaluate_basis\n",
    "from gbasis.wrappers import from_iodata\n",
    "from grid import AtomGrid, ExpRTransform, UniformInteger\n",
    "from iodata import load_one\n",
    "from setup import prepare_grid_and_dens, print_results\n",
    "\n",
    "from horton_part import HirshfeldIWPart, HirshfeldWPart, ProAtomDB, ProAtomRecord\n",
    "\n",
    "np.set_printoptions(precision=3, linewidth=np.inf, suppress=True)"
   ]
  },
  {
   "cell_type": "markdown",
   "id": "2",
   "metadata": {},
   "source": [
    "In (iterative) Hirshfeld methods, a database of atomic radial density profiles is required. Therefore, different single-atom DFT or other *ab initio* calculations should be executed. Here, we use the Gaussian package. The checkpoint files, in `fchk` format, are generated using Gaussian tools as well.\n",
    "\n",
    "Next, the radial atomic density is obtained by computing the spherical average of the atomic density. This process can be applied using the `gbasis` and `grid` packages."
   ]
  },
  {
   "cell_type": "code",
   "execution_count": 2,
   "id": "3",
   "metadata": {
    "execution": {
     "iopub.execute_input": "2025-05-19T11:16:33.934189Z",
     "iopub.status.busy": "2025-05-19T11:16:33.934077Z",
     "iopub.status.idle": "2025-05-19T11:16:33.943423Z",
     "shell.execute_reply": "2025-05-19T11:16:33.943060Z"
    }
   },
   "outputs": [],
   "source": [
    "def prepare_record(filename):\n",
    "    \"\"\"Prepare molecular grid and density.\"\"\"\n",
    "    mol = load_one(filename)\n",
    "\n",
    "    # Specify the integration grid\n",
    "    rtf = ExpRTransform(5e-4, 2e1, 120 - 1)\n",
    "    uniform_grid = UniformInteger(120)\n",
    "    rgrid = rtf.transform_1d_grid(uniform_grid)\n",
    "\n",
    "    # Get the spin-summed density matrix\n",
    "    one_rdm = mol.one_rdms.get(\"post_scf\", mol.one_rdms.get(\"scf\"))\n",
    "    basis = from_iodata(mol)\n",
    "    assert len(mol.atnums) == 1\n",
    "    grid = AtomGrid.from_preset(atnum=mol.atnums[0], preset=\"fine\", rgrid=rgrid)\n",
    "\n",
    "    basis_grid = evaluate_basis(basis, grid.points)\n",
    "    rho = np.einsum(\"ab,bp,ap->p\", one_rdm, basis_grid, basis_grid, optimize=True)\n",
    "    spline = grid.spherical_average(rho)\n",
    "    radial_rho = spline(rgrid.points)\n",
    "\n",
    "    record = ProAtomRecord(mol.atnums[0], mol.charge, mol.energy, rgrid, radial_rho)\n",
    "    return record"
   ]
  },
  {
   "cell_type": "markdown",
   "id": "4",
   "metadata": {},
   "source": [
    "In this tutorial, we focus on the water molecule and therefore only need data for hydrogen and oxygen atoms. It should be noted that data for both cations and anions are also used."
   ]
  },
  {
   "cell_type": "code",
   "execution_count": 3,
   "id": "5",
   "metadata": {
    "execution": {
     "iopub.execute_input": "2025-05-19T11:16:33.945075Z",
     "iopub.status.busy": "2025-05-19T11:16:33.944985Z",
     "iopub.status.idle": "2025-05-19T11:16:34.012549Z",
     "shell.execute_reply": "2025-05-19T11:16:34.012163Z"
    }
   },
   "outputs": [],
   "source": [
    "h_1 = prepare_record(\"./data/atoms/001__h_001_q+00/mult02/atom.fchk\")\n",
    "h_2 = prepare_record(\"./data/atoms/001__h_002_q-01/mult01/atom.fchk\")\n",
    "o_7 = prepare_record(\"./data/atoms/008__o_007_q+01/mult04/atom.fchk\")\n",
    "o_8 = prepare_record(\"./data/atoms/008__o_008_q+00/mult03/atom.fchk\")\n",
    "o_9 = prepare_record(\"./data/atoms/008__o_009_q-01/mult02/atom.fchk\")\n",
    "\n",
    "records = [h_1, h_2, o_7, o_8, o_9]\n",
    "db = ProAtomDB(records)"
   ]
  },
  {
   "cell_type": "markdown",
   "id": "6",
   "metadata": {},
   "source": [
    "Next, we prepare the molecular grid and densities as described in the `Basic Usage` section. It should be noted that the radial grids for atoms in the water molecule should match the atomic radial grids used for the corresponding single atoms in the atomic database calculations."
   ]
  },
  {
   "cell_type": "code",
   "execution_count": 4,
   "id": "7",
   "metadata": {
    "execution": {
     "iopub.execute_input": "2025-05-19T11:16:34.014472Z",
     "iopub.status.busy": "2025-05-19T11:16:34.014372Z",
     "iopub.status.idle": "2025-05-19T11:16:34.022679Z",
     "shell.execute_reply": "2025-05-19T11:16:34.022340Z"
    }
   },
   "outputs": [],
   "source": [
    "def prepare_argument_dict(mol, grid, rho):\n",
    "    \"\"\"Prepare basic input arguments for all AIM methods.\"\"\"\n",
    "    kwargs = {\n",
    "        \"coordinates\": mol.atcoords,\n",
    "        \"numbers\": mol.atnums,\n",
    "        \"pseudo_numbers\": mol.atnums,\n",
    "        \"grid\": grid,\n",
    "        \"moldens\": rho,\n",
    "        \"lmax\": 3,\n",
    "        \"proatomdb\": db,\n",
    "    }\n",
    "    return kwargs"
   ]
  },
  {
   "cell_type": "markdown",
   "id": "8",
   "metadata": {},
   "source": [
    "## Hirshfeld method\n",
    "\n",
    "The Hirshfeld method can be executed using the `HirshfeldWPart` class."
   ]
  },
  {
   "cell_type": "code",
   "execution_count": 5,
   "id": "9",
   "metadata": {
    "execution": {
     "iopub.execute_input": "2025-05-19T11:16:34.024338Z",
     "iopub.status.busy": "2025-05-19T11:16:34.024253Z",
     "iopub.status.idle": "2025-05-19T11:16:34.216441Z",
     "shell.execute_reply": "2025-05-19T11:16:34.216068Z"
    }
   },
   "outputs": [
    {
     "name": "stdout",
     "output_type": "stream",
     "text": [
      "The number of electrons: 10.000003764139395\n",
      "Coordinates of the atoms \n",
      " [[ 0.     0.     0.224]\n",
      " [-0.     1.457 -0.896]\n",
      " [-0.    -1.457 -0.896]]\n",
      "Atomic numbers of the atom \n",
      " [8 1 1]\n",
      "\n",
      "================================================================================\n",
      "Information of integral grids.\n",
      "--------------------------------------------------------------------------------\n",
      "Grid size of molecular grid: 18460\n",
      "************************************ Atom 0 ************************************\n",
      "   |-- Radial grid size: 120\n",
      "   |-- Angular grid sizes: \n",
      "          6 6 6 6 6 6 6 6 6 6 6 6 6 6 6 6 6 6 6 6\n",
      "          6 6 6 6 6 6 6 6 6 6 6 6 6 6 6 6 6 6 6 6\n",
      "          6 6 6 18 18 18 18 18 18 18 18 18 18 18 18 18 18 18 18 18\n",
      "          18 18 18 18 18 18 26 26 26 26 38 38 38 38 38 50 50 50 50 50\n",
      "          86 86 110 110 110 110 170 194 194 434 590 590 434 434 434 302 302 302 194 194\n",
      "          170 110 110 110 110 110 110 110 110 110 110 110 86 50 50 18 18 18 18 18\n",
      "          \n",
      "************************************ Atom 1 ************************************\n",
      "   |-- Radial grid size: 120\n",
      "   |-- Angular grid sizes: \n",
      "          6 6 6 6 6 6 6 6 6 6 6 6 6 6 6 6 6 6 6 6\n",
      "          6 6 6 6 6 6 6 6 6 6 6 6 6 6 6 6 6 6 6 6\n",
      "          6 6 6 6 6 6 6 6 6 6 6 6 6 6 6 18 18 18 18 18\n",
      "          18 18 18 18 18 18 18 18 18 26 26 26 38 38 38 38 38 38 38 50\n",
      "          50 50 50 50 50 86 86 86 110 110 110 170 170 170 194 194 194 194 170 170\n",
      "          170 110 110 110 110 110 110 110 110 110 110 86 86 50 50 50 18 18 18 18\n",
      "          \n",
      "************************************ Atom 2 ************************************\n",
      "   |-- Radial grid size: 120\n",
      "   |-- Angular grid sizes: \n",
      "          6 6 6 6 6 6 6 6 6 6 6 6 6 6 6 6 6 6 6 6\n",
      "          6 6 6 6 6 6 6 6 6 6 6 6 6 6 6 6 6 6 6 6\n",
      "          6 6 6 6 6 6 6 6 6 6 6 6 6 6 6 18 18 18 18 18\n",
      "          18 18 18 18 18 18 18 18 18 26 26 26 38 38 38 38 38 38 38 50\n",
      "          50 50 50 50 50 86 86 86 110 110 110 170 170 170 194 194 194 194 170 170\n",
      "          170 110 110 110 110 110 110 110 110 110 110 86 86 50 50 50 18 18 18 18\n",
      "          \n",
      "--------------------------------------------------------------------------------\n",
      "================================================================================\n",
      " \n",
      "Performing a density-based AIM analysis with a wavefunction as input.\n",
      "  Molecular grid    : MolGrid\n",
      "  Using local grids : True\n",
      "Initialized: HirshfeldWPart\n",
      "  Scheme       : Hirshfeld\n",
      "  Proatomic DB : <horton_part.core.proatomdb.ProAtomDB object at 0x10901a1a0>\n",
      "Computing atomic populations.\n",
      "Computing atomic charges.\n",
      "Computing density decomposition for atom 0\n",
      "Computing density decomposition for atom 1\n",
      "Computing density decomposition for atom 2\n",
      "Computing cartesian and pure AIM multipoles and radial AIM moments.\n",
      "Computing atomic dispersion coefficients.\n",
      "Storing proatom density spline for atom 0.\n",
      "Storing proatom density spline for atom 1.\n",
      "Storing proatom density spline for atom 2.\n",
      "charges:\n",
      "[-0.305  0.153  0.153]\n",
      "cartesian multipoles:\n",
      "[[-0.305 -0.    -0.    -0.253 -4.416 -0.    -0.    -3.647 -0.    -4.093 -0.    -0.    -0.637 -0.    -0.    -0.    -0.    -0.247 -0.    -1.401]\n",
      " [ 0.153 -0.     0.167 -0.131 -0.758 -0.    -0.    -0.643  0.035 -0.689 -0.     0.206 -0.2   -0.    -0.    -0.     0.468 -0.127  0.164 -0.454]\n",
      " [ 0.153  0.    -0.167 -0.131 -0.758  0.     0.    -0.643 -0.035 -0.689 -0.    -0.206 -0.2   -0.    -0.    -0.    -0.468 -0.127 -0.164 -0.454]]\n"
     ]
    }
   ],
   "source": [
    "mol, grid, rho = prepare_grid_and_dens(\"data/h2o.fchk\")\n",
    "kwargs = prepare_argument_dict(mol, grid, rho)\n",
    "h = HirshfeldWPart(**prepare_argument_dict(mol, grid, rho))\n",
    "h.do_all()\n",
    "print_results(h)"
   ]
  },
  {
   "cell_type": "markdown",
   "id": "10",
   "metadata": {},
   "source": [
    "## Iterative Hirshfeld method\n",
    "\n",
    "The iterative Hirshfeld method can be executed using `HirshfeldIWpart` class."
   ]
  },
  {
   "cell_type": "code",
   "execution_count": 6,
   "id": "11",
   "metadata": {
    "execution": {
     "iopub.execute_input": "2025-05-19T11:16:34.218182Z",
     "iopub.status.busy": "2025-05-19T11:16:34.218059Z",
     "iopub.status.idle": "2025-05-19T11:16:34.404542Z",
     "shell.execute_reply": "2025-05-19T11:16:34.404082Z"
    }
   },
   "outputs": [
    {
     "name": "stdout",
     "output_type": "stream",
     "text": [
      "\n",
      "================================================================================\n",
      "Information of integral grids.\n",
      "--------------------------------------------------------------------------------\n",
      "Grid size of molecular grid: 18460\n",
      "************************************ Atom 0 ************************************\n",
      "   |-- Radial grid size: 120\n",
      "   |-- Angular grid sizes: \n",
      "          6 6 6 6 6 6 6 6 6 6 6 6 6 6 6 6 6 6 6 6\n",
      "          6 6 6 6 6 6 6 6 6 6 6 6 6 6 6 6 6 6 6 6\n",
      "          6 6 6 18 18 18 18 18 18 18 18 18 18 18 18 18 18 18 18 18\n",
      "          18 18 18 18 18 18 26 26 26 26 38 38 38 38 38 50 50 50 50 50\n",
      "          86 86 110 110 110 110 170 194 194 434 590 590 434 434 434 302 302 302 194 194\n",
      "          170 110 110 110 110 110 110 110 110 110 110 110 86 50 50 18 18 18 18 18\n",
      "          \n",
      "************************************ Atom 1 ************************************\n",
      "   |-- Radial grid size: 120\n",
      "   |-- Angular grid sizes: \n",
      "          6 6 6 6 6 6 6 6 6 6 6 6 6 6 6 6 6 6 6 6\n",
      "          6 6 6 6 6 6 6 6 6 6 6 6 6 6 6 6 6 6 6 6\n",
      "          6 6 6 6 6 6 6 6 6 6 6 6 6 6 6 18 18 18 18 18\n",
      "          18 18 18 18 18 18 18 18 18 26 26 26 38 38 38 38 38 38 38 50\n",
      "          50 50 50 50 50 86 86 86 110 110 110 170 170 170 194 194 194 194 170 170\n",
      "          170 110 110 110 110 110 110 110 110 110 110 86 86 50 50 50 18 18 18 18\n",
      "          \n",
      "************************************ Atom 2 ************************************\n",
      "   |-- Radial grid size: 120\n",
      "   |-- Angular grid sizes: \n",
      "          6 6 6 6 6 6 6 6 6 6 6 6 6 6 6 6 6 6 6 6\n",
      "          6 6 6 6 6 6 6 6 6 6 6 6 6 6 6 6 6 6 6 6\n",
      "          6 6 6 6 6 6 6 6 6 6 6 6 6 6 6 18 18 18 18 18\n",
      "          18 18 18 18 18 18 18 18 18 26 26 26 38 38 38 38 38 38 38 50\n",
      "          50 50 50 50 50 86 86 86 110 110 110 170 170 170 194 194 194 194 170 170\n",
      "          170 110 110 110 110 110 110 110 110 110 110 86 86 50 50 50 18 18 18 18\n",
      "          \n",
      "--------------------------------------------------------------------------------\n",
      "================================================================================\n",
      " \n",
      "Performing a density-based AIM analysis with a wavefunction as input.\n",
      "  Molecular grid    : MolGrid\n",
      "  Using local grids : True\n",
      "Initialized: HirshfeldIWPart\n",
      "  Scheme                : Hirshfeld-I\n",
      "  Convergence threshold : 1.0e-06\n",
      "  Maximum iterations    : 500\n",
      "  Proatomic DB          : <horton_part.core.proatomdb.ProAtomDB object at 0x10901a1a0>\n",
      "Iteration       Change      Entropy\n",
      "        1   4.91894e-02   2.00489e-01\n",
      "        2   3.09349e-02   1.80862e-01\n",
      "        3   1.95877e-02   1.90830e-01\n",
      "        4   1.26979e-02   2.03872e-01\n",
      "        5   8.40308e-03   2.14964e-01\n",
      "        6   5.64913e-03   2.23432e-01\n",
      "        7   3.84155e-03   2.29631e-01\n",
      "        8   2.63387e-03   2.34078e-01\n",
      "        9   1.81637e-03   2.37237e-01\n",
      "       10   1.25775e-03   2.39468e-01\n",
      "       11   8.73435e-04   2.41038e-01\n",
      "       12   6.07777e-04   2.42140e-01\n",
      "       13   4.23518e-04   2.42912e-01\n",
      "       14   2.95413e-04   2.43453e-01\n",
      "       15   2.06199e-04   2.43832e-01\n",
      "       16   1.43998e-04   2.44098e-01\n",
      "       17   1.00594e-04   2.44283e-01\n",
      "       18   7.02895e-05   2.44413e-01\n",
      "       19   4.91226e-05   2.44503e-01\n",
      "       20   3.43338e-05   2.44567e-01\n",
      "       21   2.39993e-05   2.44611e-01\n",
      "       22   1.67764e-05   2.44642e-01\n",
      "       23   1.17278e-05   2.44664e-01\n",
      "       24   8.19875e-06   2.44679e-01\n",
      "       25   5.73174e-06   2.44690e-01\n",
      "       26   4.00710e-06   2.44697e-01\n",
      "       27   2.80143e-06   2.44702e-01\n",
      "       28   1.95853e-06   2.44706e-01\n",
      "       29   1.36925e-06   2.44709e-01\n",
      "       30   9.57279e-07   2.44710e-01\n",
      "\n",
      "Computing atomic populations.\n",
      "Computing atomic charges.\n",
      "Computing density decomposition for atom 0\n",
      "Computing density decomposition for atom 1\n",
      "Computing density decomposition for atom 2\n",
      "Computing cartesian and pure AIM multipoles and radial AIM moments.\n",
      "Computing atomic dispersion coefficients.\n",
      "Storing proatom density spline for atom 0.\n",
      "Storing proatom density spline for atom 1.\n",
      "Storing proatom density spline for atom 2.\n",
      "charges:\n",
      "[-0.862  0.431  0.431]\n",
      "cartesian multipoles:\n",
      "[[-0.862  0.    -0.     0.189 -5.147 -0.    -0.    -4.812 -0.    -5.012 -0.    -0.    -0.105  0.     0.     0.     0.     0.58  -0.     0.174]\n",
      " [ 0.431 -0.     0.077 -0.04  -0.392 -0.    -0.    -0.389  0.02  -0.375 -0.     0.088 -0.057  0.     0.    -0.     0.264 -0.039  0.083 -0.136]\n",
      " [ 0.431  0.    -0.077 -0.04  -0.392  0.     0.    -0.389 -0.02  -0.375  0.    -0.088 -0.057  0.    -0.     0.    -0.264 -0.039 -0.083 -0.136]]\n"
     ]
    }
   ],
   "source": [
    "hi = HirshfeldIWPart(**prepare_argument_dict(mol, grid, rho))\n",
    "hi.do_all()\n",
    "print_results(hi)"
   ]
  },
  {
   "cell_type": "code",
   "execution_count": null,
   "id": "12",
   "metadata": {},
   "outputs": [],
   "source": []
  }
 ],
 "metadata": {
  "kernelspec": {
   "display_name": "Python 3 (ipykernel)",
   "language": "python",
   "name": "python3"
  },
  "language_info": {
   "codemirror_mode": {
    "name": "ipython",
    "version": 3
   },
   "file_extension": ".py",
   "mimetype": "text/x-python",
   "name": "python",
   "nbconvert_exporter": "python",
   "pygments_lexer": "ipython3",
   "version": "3.10.11"
  }
 },
 "nbformat": 4,
 "nbformat_minor": 5
}
